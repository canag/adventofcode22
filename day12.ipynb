{
 "cells": [
  {
   "cell_type": "code",
   "execution_count": 1,
   "metadata": {},
   "outputs": [
    {
     "name": "stdout",
     "output_type": "stream",
     "text": [
      "[[1. 2. 1. ... 1. 1. 1.]\n",
      " [1. 2. 1. ... 1. 1. 1.]\n",
      " [1. 2. 1. ... 1. 1. 1.]\n",
      " ...\n",
      " [1. 2. 3. ... 1. 1. 1.]\n",
      " [1. 2. 3. ... 1. 1. 1.]\n",
      " [1. 2. 3. ... 1. 1. 1.]]\n",
      "(20, 0) (20, 68)\n"
     ]
    }
   ],
   "source": [
    "# day12\n",
    "import numpy as np\n",
    "import heapq\n",
    "from warnings import warn\n",
    "\n",
    "f = open(\"data/data12.txt\", \"r\")\n",
    "lines = f.readlines()\n",
    "lines = [l[:-1] for l in lines]\n",
    "n, m = len(lines), len(lines[0])\n",
    "A = np.zeros((n, m))\n",
    "\n",
    "for i, line in enumerate(lines):\n",
    "    for j, s in enumerate(line):\n",
    "        if s == 'S':\n",
    "            A[i, j] = 1\n",
    "            start = (i, j)\n",
    "        elif s == 'E':\n",
    "            A[i, j] = 26\n",
    "            end = (i, j)\n",
    "        else:\n",
    "            A[i, j] = ord(s) - 96\n",
    "    \n",
    "print(A)\n",
    "print(start, end)"
   ]
  },
  {
   "cell_type": "code",
   "execution_count": 2,
   "metadata": {},
   "outputs": [
    {
     "data": {
      "text/plain": [
       "412"
      ]
     },
     "execution_count": 2,
     "metadata": {},
     "output_type": "execute_result"
    }
   ],
   "source": [
    "# adjacency matrix\n",
    "mat = []\n",
    "for i in range(n):\n",
    "    for j in range(m):\n",
    "        pos = i*m + j\n",
    "        val = A[i, j]\n",
    "        adj = []\n",
    "        #top\n",
    "        if(i>0 and val - A[i-1, j] < 2):\n",
    "            adj.append(j + (i-1)*m)\n",
    "        #left\n",
    "        if(j>0 and val - A[i, j-1] < 2):\n",
    "            adj.append(j-1 + i*m)\n",
    "        #down\n",
    "        if(i+1<n and val - A[i+1, j] < 2):\n",
    "            adj.append(j + (i+1)*m)\n",
    "        #right\n",
    "        if(j+1<m and val - A[i, j+1] < 2):\n",
    "            adj.append(j+1 + i*m)\n",
    "        mat.append(adj)\n",
    "\n",
    "def dijkstra(start, mat, cost):\n",
    "    q = []\n",
    "    cost[start] = 0 \n",
    "    q.append((start, 0))\n",
    "    while len(q)>0:\n",
    "        node,c = q.pop() #node, cost\n",
    "        if cost[node] != c:\n",
    "            continue #already found a better path for n\n",
    "        for v in mat[node]:\n",
    "            if(cost[v] > (c+1)):\n",
    "                cost[v]=c+1\n",
    "                q.append((v,c+1))\n",
    "\n",
    "cost = [999] * (m * n)\n",
    "dijkstra(end[0]*m + end[1], mat, cost)\n",
    "cost[start[0]*m + start[1]]"
   ]
  },
  {
   "cell_type": "code",
   "execution_count": 3,
   "metadata": {},
   "outputs": [
    {
     "data": {
      "text/plain": [
       "402"
      ]
     },
     "execution_count": 3,
     "metadata": {},
     "output_type": "execute_result"
    }
   ],
   "source": [
    "min([cost[i*m+j] for i in range(n) for j in range(m) if A[i, j]==1])"
   ]
  },
  {
   "cell_type": "code",
   "execution_count": null,
   "metadata": {},
   "outputs": [],
   "source": []
  }
 ],
 "metadata": {
  "kernelspec": {
   "display_name": "webapp",
   "language": "python",
   "name": "python3"
  },
  "language_info": {
   "codemirror_mode": {
    "name": "ipython",
    "version": 3
   },
   "file_extension": ".py",
   "mimetype": "text/x-python",
   "name": "python",
   "nbconvert_exporter": "python",
   "pygments_lexer": "ipython3",
   "version": "3.11.0 | packaged by conda-forge | (main, Oct 25 2022, 06:09:06) [MSC v.1929 64 bit (AMD64)]"
  },
  "orig_nbformat": 4,
  "vscode": {
   "interpreter": {
    "hash": "c159fff2dae20e5a34c9a168b8e8d55fa3c437f1bc77dfa82c7d91803ab043eb"
   }
  }
 },
 "nbformat": 4,
 "nbformat_minor": 2
}
