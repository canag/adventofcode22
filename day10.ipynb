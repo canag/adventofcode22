{
 "cells": [
  {
   "cell_type": "code",
   "execution_count": 65,
   "metadata": {},
   "outputs": [
    {
     "name": "stdout",
     "output_type": "stream",
     "text": [
      "['noop', 'noop', 'noop', 'addx 6', 'addx -1']\n"
     ]
    }
   ],
   "source": [
    "import pandas as pd\n",
    "import numpy as np\n",
    "\n",
    "f = open(\"data10.txt\", \"r\")\n",
    "lines = f.readlines()\n",
    "lines = [l[:-1] for l in lines]\n",
    "#lines = ['noop', 'addx 3', 'addx -5']\n",
    "print(lines[:5])\n",
    "#df = pd.DataFrame(lines, columns=[\"input\"])\n",
    "#df.head()"
   ]
  },
  {
   "cell_type": "code",
   "execution_count": 48,
   "metadata": {},
   "outputs": [
    {
     "name": "stdout",
     "output_type": "stream",
     "text": [
      "[during 20] x=17, v=[1, 0, 0, 0, 0, 5, 0, 0, 4], 10\n",
      "[during 60] x=17, v=[0, 3, 0, 2, 0, 4, 0, 10, 0, -9, 0, 0, 0, 7, 0, 2, 0, 3, 0, 0, -38, 0, 10, 0, -9, 0, 2, 0, 5, 0, 28, 0, -28, 0, 3, 0, 2, 0, 5, 0, 2], 4\n",
      "[during 100] x=21, v=[0, -38, 0, 3, 0, 0, 2, 0, 0, 1, 0, 0, 30, 0, 0, -25, 0, 2, 0, 5, 0, 2, 0, -2, 0, 3, 0, 5, 0, 0, 0, 0, 3, 0, 0, 2, 0, 5, 0, 0, 0, 0, -35, 0, 0, 0, 0, 2, 0, 5, 0, 3, 0, 0, 0, 0, 7, 0, -2, 0, 0, 0], -22\n",
      "[during 140] x=17, v=[2, 0, 0, 2, 0, 19, 0, -16, 0, 1, 0, 2, 0, 0, 3, 0, -10, 0, 17, 0, 2, 0, 0, 0, 0, 0, 0, 0, 8, 0, -38, 0, 5, 0, -4, 0, 2, 0, 0, 3, 0, 20, 0, 0, -15, 0, 2, 0, 5, 0, 2, 0, 3, 0, 0, -2, 0, 13, 0, -8, 0, 2, 0, 5, 0, -2, 0, 7, 0, 0, -38, 0, 3, 0, 0, 2, 0, 0, 1, 0, 0, 30, 0, 0, -25, 0, 2, 0, 5, 0, 2], 12\n",
      "[340, 1020, 2100, 2380]\n",
      "[during 180] x=17, v=[0, 0, 0, 0, 0, 0, 2, 0, 5, 0, 2, 0, 0, 2, 0, 19, 0, -16, 0, 1, 0, 2, 0, 0, 3, 0, -10, 0, 17, 0, 2, 0, 0, 0, 0, 0, 0, 0, 8, 0, -38, 0, 5, 0, -4, 0, 2, 0, 0, 3, 0, 20, 0, 0, -15, 0, 2, 0, 5, 0, 2]\n",
      "[during 220] x=21, v=[0, 0, 0, 0, 0, 0, 2, 0, 5, 0, 2, 0, 0, 2, 0, 19, 0, -16, 0, 1, 0]\n",
      "13520\n"
     ]
    }
   ],
   "source": [
    "x=1\n",
    "v=[] \n",
    "res=[]\n",
    "for k, instr in enumerate(lines):\n",
    "    if k%40==19:\n",
    "        print(f\"[during {k+1}] x={x}, v={v}, {sum(v)}\")\n",
    "        res.append(x*(k+1))\n",
    "    if instr=='noop':\n",
    "        v.insert(0, 0)\n",
    "    if instr.startswith('addx'):\n",
    "        val = int(instr[5:])\n",
    "        v.insert(0, 0)\n",
    "        v.insert(0, val)\n",
    "    if v:\n",
    "        x += v.pop()\n",
    "    #if k%40==19:\n",
    "    #    print(f\"[after  {k+1}] v={v}, x={x} \\n\")\n",
    "        \n",
    "print(res)\n",
    "\n",
    "\n",
    "while v:\n",
    "    k+=1\n",
    "    if k%40==19:\n",
    "        print(f\"[during {k+1}] x={x}, v={v}\")\n",
    "        res.append(x*(k+1))\n",
    "    x += v.pop()\n",
    "    #print(f\"[after {k+1}] v={v}, x={x} \\n\")\n",
    "#print(f\"[during {k+1}] x={x}, v={v}\")\n",
    "print(sum(res))"
   ]
  },
  {
   "cell_type": "code",
   "execution_count": 66,
   "metadata": {},
   "outputs": [
    {
     "name": "stdout",
     "output_type": "stream",
     "text": [
      "###...##..###..#..#.###..####..##..###..\n",
      "#..#.#..#.#..#.#..#.#..#.#....#..#.#..#.\n",
      "#..#.#....#..#.####.###..###..#..#.###..\n",
      "###..#.##.###..#..#.#..#.#....####.#..#.\n",
      "#....#..#.#....#..#.#..#.#....#..#.#..#.\n",
      "#.....###.#....#..#.###..####.#..#.###..\n"
     ]
    }
   ],
   "source": [
    "x=1\n",
    "v=[] \n",
    "B = np.zeros((6, 40))\n",
    "for k, instr in enumerate(lines):\n",
    "    if instr=='noop':\n",
    "        v.insert(0, 0)\n",
    "    if instr.startswith('addx'):\n",
    "        val = int(instr[5:])\n",
    "        v.insert(0, 0)\n",
    "        v.insert(0, val)\n",
    "    if np.abs(x-k%40)<=1:\n",
    "        #print(\"draw at \", k//40, k%40)\n",
    "        B[k//40, k%40] = 1\n",
    "    if v:\n",
    "        x += v.pop()\n",
    "    #print(k, x)\n",
    "    \n",
    "\n",
    "while v:\n",
    "    \n",
    "    k+=1\n",
    "    if np.abs(x-k%40)<=1:\n",
    "        #print(\"draw at \", k//40, k%40)\n",
    "        B[k//40, k%40] = 1\n",
    "    x += v.pop()\n",
    "\n",
    "for i in range(B.shape[0]):\n",
    "    l = \"\"\n",
    "    for j in range(B.shape[1]):\n",
    "        if B[i, j]==1:\n",
    "            l += \"#\"\n",
    "        else:\n",
    "            l += \".\"\n",
    "    print(l)"
   ]
  },
  {
   "cell_type": "code",
   "execution_count": null,
   "metadata": {},
   "outputs": [],
   "source": []
  }
 ],
 "metadata": {
  "kernelspec": {
   "display_name": "py37",
   "language": "python",
   "name": "py37"
  },
  "language_info": {
   "codemirror_mode": {
    "name": "ipython",
    "version": 3
   },
   "file_extension": ".py",
   "mimetype": "text/x-python",
   "name": "python",
   "nbconvert_exporter": "python",
   "pygments_lexer": "ipython3",
   "version": "3.7.7"
  }
 },
 "nbformat": 4,
 "nbformat_minor": 4
}
