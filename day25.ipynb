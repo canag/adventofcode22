{
 "cells": [
  {
   "cell_type": "code",
   "execution_count": 54,
   "metadata": {},
   "outputs": [
    {
     "name": "stdout",
     "output_type": "stream",
     "text": [
      "976 314159265\n",
      "2=-01 1121-1110-1=0\n"
     ]
    }
   ],
   "source": [
    "import numpy as np\n",
    "\n",
    "def int2snafu(m):\n",
    "    n = int(np.ceil(np.log(2*m+1)/np.log(5)))\n",
    "    s = \"\"\n",
    "    for k in range(n, 1,-1):\n",
    "        r = int((m+(5**(k-1)-1)/2)//5**(k-1))\n",
    "        if r>=0:\n",
    "            s += str(r)\n",
    "        elif r==-1:\n",
    "            s += \"-\"\n",
    "        elif r==-2:\n",
    "            s += \"=\"\n",
    "        m = m-r*5**(k-1)\n",
    "    if m>=0:\n",
    "        s += str(m)\n",
    "    elif m==-1:\n",
    "        s += \"-\"\n",
    "    elif m==-2:\n",
    "        s += \"=\"\n",
    "    return s\n",
    "\n",
    "def snafu2int(s):\n",
    "    z = 0\n",
    "    for c in s:\n",
    "        if c.isnumeric():\n",
    "            z += int(c)\n",
    "        elif c == \"-\":\n",
    "            z -= 1\n",
    "        elif c == '=':\n",
    "            z -= 2\n",
    "        else:\n",
    "            print(\"char not recognised:\", c)\n",
    "        z *= 5\n",
    "    return int(z/5)    \n",
    "\n",
    "print(snafu2int(\"2=-01\"), snafu2int(\"1121-1110-1=0\"))\n",
    "print(int2snafu(976), int2snafu(314159265))"
   ]
  },
  {
   "cell_type": "code",
   "execution_count": 56,
   "metadata": {},
   "outputs": [
    {
     "name": "stdout",
     "output_type": "stream",
     "text": [
      "33383508717511 2----0=--1122=0=0021\n"
     ]
    }
   ],
   "source": [
    "file = \"data/data25.txt\"\n",
    "f = open(file, \"r\")\n",
    "lines = [line[:-1] for line in f.readlines()]\n",
    "s = 0\n",
    "for line in lines:\n",
    "    s += snafu2int(line)\n",
    "print(s, int2snafu(s))\n",
    "\n",
    "    "
   ]
  },
  {
   "cell_type": "code",
   "execution_count": null,
   "metadata": {},
   "outputs": [],
   "source": []
  }
 ],
 "metadata": {
  "kernelspec": {
   "display_name": "py310",
   "language": "python",
   "name": "python3"
  },
  "language_info": {
   "codemirror_mode": {
    "name": "ipython",
    "version": 3
   },
   "file_extension": ".py",
   "mimetype": "text/x-python",
   "name": "python",
   "nbconvert_exporter": "python",
   "pygments_lexer": "ipython3",
   "version": "3.10.4"
  },
  "orig_nbformat": 4,
  "vscode": {
   "interpreter": {
    "hash": "d324f871be833c9a8cf29764ec477236e5bf41c23d5b66dc997ba672b6b18820"
   }
  }
 },
 "nbformat": 4,
 "nbformat_minor": 2
}
