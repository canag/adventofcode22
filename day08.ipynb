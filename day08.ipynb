{
 "cells": [
  {
   "cell_type": "code",
   "execution_count": 1,
   "metadata": {},
   "outputs": [
    {
     "name": "stdout",
     "output_type": "stream",
     "text": [
      "['101232232424431123432342554040352101405502025646520640026102435415402415524241404341001022013221221', '322003200404313034023203145443134010555246652210042156042654635314322525041550121322403330300102030', '300223331202022110511510154103110142442012332003514242206354525511353252421542430110200442102312123', '323133401312301310040251134225352136126616004434252462045055305202261355433025233042244241414400023', '101104403040123044220034201231621525016350121330311611014454116414515052210415423202213344444213032']\n"
     ]
    }
   ],
   "source": [
    "# day 8\n",
    "f = open(\"data/data08.txt\", \"r\")\n",
    "lines = f.readlines()\n",
    "lines = [l[:-1] for l in lines]\n",
    "#lines = ['30373', '25512', '65332', '33549', '35390']\n",
    "print(lines[:5])"
   ]
  },
  {
   "cell_type": "code",
   "execution_count": 2,
   "metadata": {},
   "outputs": [
    {
     "name": "stdout",
     "output_type": "stream",
     "text": [
      "[[1 0 1 ... 2 2 1]\n",
      " [3 2 2 ... 0 3 0]\n",
      " [3 0 0 ... 1 2 3]\n",
      " ...\n",
      " [0 2 0 ... 0 1 2]\n",
      " [0 0 3 ... 3 3 2]\n",
      " [2 2 3 ... 0 3 3]]\n"
     ]
    }
   ],
   "source": [
    "import numpy as np\n",
    "N = len(lines)\n",
    "A = np.zeros((N, N), np.int8)\n",
    "for i, line in enumerate(lines):\n",
    "    for j, s in enumerate(line):\n",
    "        A[i, j] = int(s)\n",
    "print(A)"
   ]
  },
  {
   "cell_type": "code",
   "execution_count": 3,
   "metadata": {},
   "outputs": [
    {
     "name": "stdout",
     "output_type": "stream",
     "text": [
      "1690\n"
     ]
    }
   ],
   "source": [
    "k = 4*N-4\n",
    "L = []\n",
    "\n",
    "for i in range(1, N-1):\n",
    "    for j in range(1, N-1):\n",
    "        a = A[i, j]\n",
    "        if a > np.max(A[:i, j]):\n",
    "            k += 1\n",
    "            L.append((i,j))\n",
    "        elif a > np.max(A[i+1:, j]):\n",
    "            k += 1\n",
    "            L.append((i,j))\n",
    "        elif a > np.max(A[i, :j]):\n",
    "            k += 1\n",
    "            L.append((i,j))\n",
    "        elif a > np.max(A[i, j+1:]):\n",
    "            k += 1\n",
    "            L.append((i,j))\n",
    "print(k)"
   ]
  },
  {
   "cell_type": "code",
   "execution_count": 4,
   "metadata": {},
   "outputs": [
    {
     "name": "stdout",
     "output_type": "stream",
     "text": [
      "535680\n"
     ]
    }
   ],
   "source": [
    "B = np.zeros((N, N), np.int64)\n",
    "\n",
    "for i in range(1, N-1):\n",
    "    for j in range(1, N-1):\n",
    "        a = A[i, j]\n",
    "        kN, kS, kW, kE = 1, 1, 1, 1\n",
    "        \n",
    "        ii = i+1\n",
    "        while A[ii, j]<a:\n",
    "            ii += 1 \n",
    "            if ii==N:\n",
    "                break\n",
    "            kS += 1\n",
    "        ii = i-1\n",
    "        while A[ii, j]<a:\n",
    "            ii -= 1\n",
    "            if ii<0:\n",
    "                break\n",
    "            kN += 1\n",
    "        jj = j+1\n",
    "        while A[i, jj]<a:\n",
    "            jj += 1\n",
    "            if jj==N:\n",
    "                break\n",
    "            kE += 1\n",
    "        jj = j-1\n",
    "        while A[i, jj]<a:\n",
    "            jj -= 1\n",
    "            if jj<0:\n",
    "                break\n",
    "            kW += 1\n",
    "        B[i, j] = kN * kS * kW * kE\n",
    "        if B[i, j]<0:\n",
    "            print(i,j)\n",
    "            print(kN, kS, kW, kE)\n",
    "print(B.max())"
   ]
  },
  {
   "cell_type": "code",
   "execution_count": 5,
   "metadata": {},
   "outputs": [
    {
     "data": {
      "text/plain": [
       "array([[  2,   5,   2],\n",
       "       [ 12,   1, 234],\n",
       "       [  1,  60,  16]], dtype=int64)"
      ]
     },
     "execution_count": 5,
     "metadata": {},
     "output_type": "execute_result"
    }
   ],
   "source": [
    "B[2:5, 4:7]"
   ]
  },
  {
   "cell_type": "code",
   "execution_count": null,
   "metadata": {},
   "outputs": [],
   "source": []
  }
 ],
 "metadata": {
  "kernelspec": {
   "display_name": "py310",
   "language": "python",
   "name": "python3"
  },
  "language_info": {
   "codemirror_mode": {
    "name": "ipython",
    "version": 3
   },
   "file_extension": ".py",
   "mimetype": "text/x-python",
   "name": "python",
   "nbconvert_exporter": "python",
   "pygments_lexer": "ipython3",
   "version": "3.10.4"
  },
  "orig_nbformat": 4,
  "vscode": {
   "interpreter": {
    "hash": "d324f871be833c9a8cf29764ec477236e5bf41c23d5b66dc997ba672b6b18820"
   }
  }
 },
 "nbformat": 4,
 "nbformat_minor": 2
}
