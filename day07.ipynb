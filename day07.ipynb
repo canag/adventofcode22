{
 "cells": [
  {
   "cell_type": "code",
   "execution_count": 2,
   "metadata": {},
   "outputs": [],
   "source": [
    "# day 7\n",
    "\n",
    "class Node:\n",
    "    def __init__(self, name, updir):\n",
    "        self.name = name\n",
    "        self.updir = updir # node\n",
    "        self.files = []\n",
    "        self.subdirs = [] # list of nodes\n",
    "        self.size = 0\n",
    "    def PrintTree(self):\n",
    "        if self.updir:\n",
    "            print(f\"{self.name} is in {self.updir.name} and has size {self.size}\")\n",
    "        else:\n",
    "            print(f\"{self.name} is the root directory and has size {self.size}\")\n",
    "    def ShowContent(self):\n",
    "        print(\"Subdirectories:\")\n",
    "        for d in self.subdirs:\n",
    "            print(f\"    {d.name}\")\n",
    "        print(\"Files:\")\n",
    "        for f in self.files:\n",
    "            print(f\"    {f}\")\n",
    "\n",
    "def get_size(node):\n",
    "    s = node.size\n",
    "    for n in node.subdirs:\n",
    "        s += get_size(n)\n",
    "    return s\n",
    "\n",
    "def add_file(current_dir, file, size):\n",
    "    current_dir.files.append(file)\n",
    "    current_dir.size += size"
   ]
  },
  {
   "cell_type": "code",
   "execution_count": 5,
   "metadata": {},
   "outputs": [
    {
     "data": {
      "text/plain": [
       "1118405"
      ]
     },
     "execution_count": 5,
     "metadata": {},
     "output_type": "execute_result"
    }
   ],
   "source": [
    "f = open(\"data/data07.txt\", \"r\")\n",
    "lines = f.readlines()\n",
    "lines = [l[:-1] for l in lines]\n",
    "\n",
    "L = []\n",
    "L_names = []\n",
    "\n",
    "for line in lines:\n",
    "    match line.split():\n",
    "        case [_, \"cd\", \"/\"]:\n",
    "            root = Node(\"/\", None)\n",
    "            L.append(root)\n",
    "            L_names.append(\"/\")\n",
    "            current_dir = root\n",
    "        \n",
    "        case [_, \"cd\", \"..\"]:\n",
    "            current_dir = current_dir.updir\n",
    "\n",
    "        case [_, \"cd\", dirname]:\n",
    "            s = \"node_\" + dirname\n",
    "            while s in L_names:\n",
    "                s += \"_1\"\n",
    "            exec(s + \" = Node(s[5:], current_dir)\")\n",
    "            exec(\"L.append(\" + s + \")\")\n",
    "            L_names.append(s)\n",
    "            exec(\"current_dir.subdirs.append(\" + s + \")\")\n",
    "            exec(\"current_dir = \" + s)\n",
    "\n",
    "        case [\"dir\", _] | [_, \"ls\"]:\n",
    "            pass\n",
    "\n",
    "        case [size, file]:\n",
    "            add_file(current_dir, file, int(size))\n",
    "\n",
    "list_sizes = [get_size(l) for l in L]\n",
    "sum([z for z in list_sizes if z<=100000])"
   ]
  },
  {
   "cell_type": "code",
   "execution_count": 6,
   "metadata": {},
   "outputs": [
    {
     "name": "stdout",
     "output_type": "stream",
     "text": [
      "10216456\n"
     ]
    },
    {
     "data": {
      "text/plain": [
       "12545514"
      ]
     },
     "execution_count": 6,
     "metadata": {},
     "output_type": "execute_result"
    }
   ],
   "source": [
    "to_free = get_size(root) - 40_000_000\n",
    "print(to_free)\n",
    "sublist_sizes = [s for s in list_sizes if s>=to_free]\n",
    "min(sublist_sizes)"
   ]
  },
  {
   "cell_type": "code",
   "execution_count": null,
   "metadata": {},
   "outputs": [],
   "source": []
  }
 ],
 "metadata": {
  "kernelspec": {
   "display_name": "py310",
   "language": "python",
   "name": "python3"
  },
  "language_info": {
   "codemirror_mode": {
    "name": "ipython",
    "version": 3
   },
   "file_extension": ".py",
   "mimetype": "text/x-python",
   "name": "python",
   "nbconvert_exporter": "python",
   "pygments_lexer": "ipython3",
   "version": "3.10.4"
  },
  "orig_nbformat": 4,
  "vscode": {
   "interpreter": {
    "hash": "d324f871be833c9a8cf29764ec477236e5bf41c23d5b66dc997ba672b6b18820"
   }
  }
 },
 "nbformat": 4,
 "nbformat_minor": 2
}
