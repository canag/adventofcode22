{
 "cells": [
  {
   "cell_type": "code",
   "execution_count": 2,
   "metadata": {},
   "outputs": [
    {
     "data": {
      "text/plain": [
       "4095"
      ]
     },
     "execution_count": 2,
     "metadata": {},
     "output_type": "execute_result"
    }
   ],
   "source": [
    "# day 6\n",
    "import pandas as pd\n",
    "f = open(\"data/data06.txt\", \"r\")\n",
    "lines = f.readlines()\n",
    "lines = [l[:-1] for l in lines]\n",
    "line = lines[0]\n",
    "len(line)"
   ]
  },
  {
   "cell_type": "code",
   "execution_count": 3,
   "metadata": {},
   "outputs": [
    {
     "data": {
      "text/html": [
       "<div>\n",
       "<style scoped>\n",
       "    .dataframe tbody tr th:only-of-type {\n",
       "        vertical-align: middle;\n",
       "    }\n",
       "\n",
       "    .dataframe tbody tr th {\n",
       "        vertical-align: top;\n",
       "    }\n",
       "\n",
       "    .dataframe thead th {\n",
       "        text-align: right;\n",
       "    }\n",
       "</style>\n",
       "<table border=\"1\" class=\"dataframe\">\n",
       "  <thead>\n",
       "    <tr style=\"text-align: right;\">\n",
       "      <th></th>\n",
       "      <th>a</th>\n",
       "      <th>a1</th>\n",
       "      <th>a2</th>\n",
       "      <th>a3</th>\n",
       "      <th>a4</th>\n",
       "      <th>a5</th>\n",
       "      <th>a6</th>\n",
       "      <th>a7</th>\n",
       "      <th>a8</th>\n",
       "      <th>a9</th>\n",
       "      <th>a10</th>\n",
       "      <th>a11</th>\n",
       "      <th>a12</th>\n",
       "      <th>a13</th>\n",
       "      <th>z</th>\n",
       "      <th>answer</th>\n",
       "    </tr>\n",
       "  </thead>\n",
       "  <tbody>\n",
       "    <tr>\n",
       "      <th>3520</th>\n",
       "      <td>g</td>\n",
       "      <td>q</td>\n",
       "      <td>w</td>\n",
       "      <td>p</td>\n",
       "      <td>d</td>\n",
       "      <td>n</td>\n",
       "      <td>m</td>\n",
       "      <td>l</td>\n",
       "      <td>z</td>\n",
       "      <td>r</td>\n",
       "      <td>t</td>\n",
       "      <td>f</td>\n",
       "      <td>h</td>\n",
       "      <td>c</td>\n",
       "      <td>14</td>\n",
       "      <td>3534</td>\n",
       "    </tr>\n",
       "    <tr>\n",
       "      <th>3521</th>\n",
       "      <td>c</td>\n",
       "      <td>g</td>\n",
       "      <td>q</td>\n",
       "      <td>w</td>\n",
       "      <td>p</td>\n",
       "      <td>d</td>\n",
       "      <td>n</td>\n",
       "      <td>m</td>\n",
       "      <td>l</td>\n",
       "      <td>z</td>\n",
       "      <td>r</td>\n",
       "      <td>t</td>\n",
       "      <td>f</td>\n",
       "      <td>h</td>\n",
       "      <td>14</td>\n",
       "      <td>3535</td>\n",
       "    </tr>\n",
       "  </tbody>\n",
       "</table>\n",
       "</div>"
      ],
      "text/plain": [
       "      a a1 a2 a3 a4 a5 a6 a7 a8 a9 a10 a11 a12 a13   z  answer\n",
       "3520  g  q  w  p  d  n  m  l  z  r   t   f   h   c  14    3534\n",
       "3521  c  g  q  w  p  d  n  m  l  z   r   t   f   h  14    3535"
      ]
     },
     "execution_count": 3,
     "metadata": {},
     "output_type": "execute_result"
    }
   ],
   "source": [
    "#line = 'mjqjpqmgbljsphdztnvjfqwrcgsmlb'\n",
    "df = pd.DataFrame(columns=['a'])\n",
    "df['a'] = [s for s in line]\n",
    "n = 14\n",
    "for i in range(1, n):\n",
    "    s = 'a'+str(i)\n",
    "    df[s] = df.a.shift(i)\n",
    "df = df.iloc[n-1:].reset_index(drop=True)\n",
    "df['z'] = df.nunique(axis=1)\n",
    "df['answer'] = list(range(n, df.shape[0]+n))\n",
    "#df.head()\n",
    "df[df.z==n].head()"
   ]
  },
  {
   "cell_type": "code",
   "execution_count": null,
   "metadata": {},
   "outputs": [],
   "source": []
  }
 ],
 "metadata": {
  "kernelspec": {
   "display_name": "py310",
   "language": "python",
   "name": "python3"
  },
  "language_info": {
   "codemirror_mode": {
    "name": "ipython",
    "version": 3
   },
   "file_extension": ".py",
   "mimetype": "text/x-python",
   "name": "python",
   "nbconvert_exporter": "python",
   "pygments_lexer": "ipython3",
   "version": "3.10.4"
  },
  "orig_nbformat": 4,
  "vscode": {
   "interpreter": {
    "hash": "d324f871be833c9a8cf29764ec477236e5bf41c23d5b66dc997ba672b6b18820"
   }
  }
 },
 "nbformat": 4,
 "nbformat_minor": 2
}
