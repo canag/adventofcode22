{
 "cells": [
  {
   "cell_type": "code",
   "execution_count": 32,
   "metadata": {},
   "outputs": [],
   "source": [
    "# day 16\n",
    "import re\n",
    "import numpy as np\n",
    "\n",
    "class Node:\n",
    "    def __init__(self, ind, name, flow):\n",
    "        self.ind = ind\n",
    "        self.name = name\n",
    "        self.flow = flow\n",
    "\n",
    "class Graph:\n",
    "    def __init__(self, num_vertices):\n",
    "        self.adjacency_list = [[] for _ in range(num_vertices)]\n",
    "        self.vertices = []\n",
    "    \n",
    "    def add_vertex(self, ind, name, flow):\n",
    "        self.vertices.append(Node(ind, name, flow))\n",
    "    \n",
    "    def add_edge(self, u, v):\n",
    "        self.adjacency_list[u].append(v)\n",
    "\n",
    "def init_graph(lines):\n",
    "    L_valves = [re.search(r'Valve (\\w+)', line).group(1) for line in lines]\n",
    "    mygraph = Graph(len(lines))\n",
    "    list_valves = []\n",
    "    for i, line in enumerate(lines):\n",
    "        valve_name = re.search(r'Valve (\\w+)', line).group(1)\n",
    "        flow_rate = int(re.search(r'flow rate=(\\d+)', line).group(1))\n",
    "        list_next = re.search(r'tunnels* leads* to valves* (.*)', line).group(1).split(\", \")\n",
    "        mygraph.add_vertex(i, valve_name, flow_rate)\n",
    "        for newname in list_next:\n",
    "            j = L_valves.index(newname)    \n",
    "            mygraph.add_edge(i, j)\n",
    "    return mygraph\n",
    "\n",
    "def get_distances_from_graph(mygraph):\n",
    "    N = len(mygraph.adjacency_list)\n",
    "    A = np.zeros((N, N))\n",
    "    for i, l in enumerate(mygraph.adjacency_list):\n",
    "        for j in l:\n",
    "            A[i, j] = 1\n",
    "\n",
    "    D = np.zeros((N, N), dtype='int8')\n",
    "    k = 1\n",
    "    B = A\n",
    "    while (D==0).any():\n",
    "        D[(B>0) & (D==0)] = k\n",
    "        k += 1\n",
    "        B = B.dot(A)  \n",
    "    for i in range(N):\n",
    "        D[i, i] = 0\n",
    "    return D      \n",
    "\n",
    "def get_max_score(current_node, current_time, L_visited):\n",
    "    global D, valves, flows\n",
    "    \n",
    "    if current_time<=0 or len(L_visited)==len(valves):\n",
    "        return 0\n",
    "\n",
    "    scores = []\n",
    "    for option in valves:\n",
    "        if option not in L_visited:\n",
    "            next_time = current_time - (D[current_node, option]+1)\n",
    "            score = get_max_score(option, next_time, L_visited + [option])\n",
    "            score += max(0, next_time)*flows[option]\n",
    "            scores.append(score)\n",
    "     \n",
    "    return max(scores)                "
   ]
  },
  {
   "cell_type": "code",
   "execution_count": 33,
   "metadata": {},
   "outputs": [
    {
     "data": {
      "text/plain": [
       "1651"
      ]
     },
     "execution_count": 33,
     "metadata": {},
     "output_type": "execute_result"
    }
   ],
   "source": [
    "f = open(\"data/data16test.txt\", \"r\")\n",
    "lines = f.readlines()\n",
    "lines = [l[:-1] for l in lines]\n",
    "\n",
    "mygraph = init_graph(lines)\n",
    "D = get_distances_from_graph(mygraph)\n",
    "flows = [v.flow for v in mygraph.vertices]\n",
    "names = [v.name for v in mygraph.vertices]\n",
    "valves = [i for i in range(len(flows)) if flows[i]>0]\n",
    "\n",
    "current_node = names.index(\"AA\")\n",
    "get_max_score(current_node, 30, [])\n"
   ]
  },
  {
   "cell_type": "code",
   "execution_count": 34,
   "metadata": {},
   "outputs": [
    {
     "data": {
      "text/plain": [
       "2320"
      ]
     },
     "execution_count": 34,
     "metadata": {},
     "output_type": "execute_result"
    }
   ],
   "source": [
    "f = open(\"data/data16.txt\", \"r\")\n",
    "lines = f.readlines()\n",
    "lines = [l[:-1] for l in lines]\n",
    "\n",
    "mygraph = init_graph(lines)\n",
    "D = get_distances_from_graph(mygraph)\n",
    "flows = [v.flow for v in mygraph.vertices]\n",
    "names = [v.name for v in mygraph.vertices]\n",
    "valves = [i for i in range(len(flows)) if flows[i]>0]\n",
    "\n",
    "current_node = names.index(\"AA\")\n",
    "get_max_score(current_node, 30, [])\n"
   ]
  },
  {
   "cell_type": "code",
   "execution_count": 213,
   "metadata": {},
   "outputs": [
    {
     "name": "stdout",
     "output_type": "stream",
     "text": [
      "1651\n"
     ]
    }
   ],
   "source": [
    "def get_all_scores(current_node, current_time, state, score, memory):\n",
    "    global D, valves, flows\n",
    "    memory[state] = max(memory.get(state, 0), score)\n",
    "\n",
    "    for i, new_node in enumerate(valves): \n",
    "        if ((state//2**i)%2 == 1) or (current_time<=0):\n",
    "            continue\n",
    "        else:\n",
    "            next_time = current_time - (D[current_node, new_node]+1)\n",
    "            newstate = state + 2**i\n",
    "            newscore = max(0, next_time)*flows[new_node] + score\n",
    "            get_all_scores(new_node, next_time, newstate, newscore, memory)\n",
    "    pass\n",
    "\n",
    "f = open(\"data/data16test.txt\", \"r\")\n",
    "lines = f.readlines()\n",
    "lines = [l[:-1] for l in lines]\n",
    "\n",
    "mygraph = init_graph(lines)\n",
    "D = get_distances_from_graph(mygraph)\n",
    "flows = [v.flow for v in mygraph.vertices]\n",
    "names = [v.name for v in mygraph.vertices]\n",
    "valves = [i for i in range(len(flows)) if flows[i]>0]\n",
    "\n",
    "current_node = names.index(\"AA\")\n",
    "memory = {}\n",
    "state = 0\n",
    "get_all_scores(current_node, 30, state, 0, memory)\n",
    "print(max(memory.values()))  "
   ]
  },
  {
   "cell_type": "code",
   "execution_count": 220,
   "metadata": {},
   "outputs": [
    {
     "name": "stdout",
     "output_type": "stream",
     "text": [
      "1707\n"
     ]
    }
   ],
   "source": [
    "current_node = names.index(\"AA\")\n",
    "memory = {}\n",
    "state = 0\n",
    "get_all_scores(current_node, 26, state, 0, memory)\n",
    "M = 0\n",
    "for key1, score1 in memory.items():\n",
    "    for key2, score2 in memory.items():\n",
    "        if not key1&key2:\n",
    "            M = max(M, score1+score2)\n",
    "print(M)"
   ]
  },
  {
   "cell_type": "code",
   "execution_count": 221,
   "metadata": {},
   "outputs": [
    {
     "data": {
      "text/plain": [
       "2320"
      ]
     },
     "execution_count": 221,
     "metadata": {},
     "output_type": "execute_result"
    }
   ],
   "source": [
    "f = open(\"data/data16.txt\", \"r\")\n",
    "lines = f.readlines()\n",
    "lines = [l[:-1] for l in lines]\n",
    "\n",
    "mygraph = init_graph(lines)\n",
    "D = get_distances_from_graph(mygraph)\n",
    "flows = [v.flow for v in mygraph.vertices]\n",
    "names = [v.name for v in mygraph.vertices]\n",
    "valves = [i for i in range(len(flows)) if flows[i]>0]\n",
    "\n",
    "current_node = names.index(\"AA\")\n",
    "memory = {}\n",
    "state = 0\n",
    "get_all_scores(current_node, 30, state, 0, memory)\n",
    "max(memory.values())"
   ]
  },
  {
   "cell_type": "code",
   "execution_count": 226,
   "metadata": {},
   "outputs": [
    {
     "name": "stdout",
     "output_type": "stream",
     "text": [
      "13826\n"
     ]
    },
    {
     "data": {
      "text/plain": [
       "2967"
      ]
     },
     "execution_count": 226,
     "metadata": {},
     "output_type": "execute_result"
    }
   ],
   "source": [
    "current_node = names.index(\"AA\")\n",
    "memory = {}\n",
    "state = 0\n",
    "get_all_scores(current_node, 26, state, 0, memory)\n",
    "print(len(memory))\n",
    "max(s1+s2 for k1, s1 in memory.items() for k2, s2 in memory.items() if not k1 & k2)"
   ]
  },
  {
   "cell_type": "code",
   "execution_count": 36,
   "metadata": {},
   "outputs": [
    {
     "data": {
      "text/plain": [
       "1707"
      ]
     },
     "execution_count": 36,
     "metadata": {},
     "output_type": "execute_result"
    }
   ],
   "source": [
    "# previous recursive version, works for test data but too long for real data\n",
    "\n",
    "f = open(\"data/data16test.txt\", \"r\")\n",
    "lines = f.readlines()\n",
    "lines = [l[:-1] for l in lines]\n",
    "\n",
    "mygraph = init_graph(lines)\n",
    "D = get_distances_from_graph(mygraph)\n",
    "flows = [v.flow for v in mygraph.vertices]\n",
    "names = [v.name for v in mygraph.vertices]\n",
    "valves = [i for i in range(len(flows)) if flows[i]>0]\n",
    "\n",
    "def get_max_score_for2(current_1, current_2, current_t, wait1, wait2, L_visited):\n",
    "    global D, flows, valves\n",
    "    \n",
    "    if (current_t<=0) or (len(L_visited)==len(valves)):\n",
    "        return 0\n",
    "\n",
    "    scores = [0]\n",
    "    if (wait1==0) and (wait2==0): # 1 and 2 are ready to move\n",
    "        for i, opt1 in enumerate(valves):\n",
    "            if opt1 not in L_visited:\n",
    "                for opt2 in valves[:i]+valves[i+1:]:\n",
    "                    if opt2 not in L_visited:\n",
    "                        next_t1 = current_t - (D[current_1, opt1]+1)\n",
    "                        next_t2 = current_t - (D[current_2, opt2]+1)\n",
    "                        next_t = max(next_t1, next_t2)\n",
    "                        score = get_max_score_for2(opt1, opt2, next_t, next_t - next_t1, next_t - next_t2, L_visited + [opt1, opt2])\n",
    "                        score += max(0, next_t1)*flows[opt1]\n",
    "                        score += max(0, next_t2)*flows[opt2]\n",
    "                        scores.append(score)\n",
    "                #next_t = current_t - (D[current_1, opt1]+1)\n",
    "                #score = max(0, next_t)*flows[opt1]\n",
    "                #scores.append(score)\n",
    "        #for i, opt2 in enumerate(valves):\n",
    "        #    if opt2 not in L_visited:\n",
    "        #        next_t = current_t - (D[current_2, opt2]+1)\n",
    "        #        score = max(0, next_t)*flows[opt2]\n",
    "        #        scores.append(score)\n",
    "    elif wait1==0: # wait2>0\n",
    "        next_t2 = current_t - wait2 # moment when 2 is ready\n",
    "        for opt1 in valves:\n",
    "            if opt1 not in L_visited:\n",
    "                next_t1 = current_t - (D[current_1, opt1]+1)\n",
    "                next_t = max(next_t1, next_t2)\n",
    "                score = get_max_score_for2(opt1, current_2, next_t, next_t - next_t1, next_t - next_t2, L_visited + [opt1])\n",
    "                score += max(0, next_t1)*flows[opt1]\n",
    "                scores.append(score)\n",
    "    elif wait2==0: # wait1>0\n",
    "        next_t1 = current_t - wait1 # moment when 1 is ready\n",
    "        for opt2 in valves:\n",
    "            if opt2 not in L_visited:\n",
    "                next_t2 = current_t - (D[current_2, opt2]+1)\n",
    "                next_t = max(next_t1, next_t2)\n",
    "                score = get_max_score_for2(current_1, opt2, next_t, next_t - next_t1, next_t - next_t2, L_visited + [opt2])\n",
    "                score += max(0, next_t2)*flows[opt2]\n",
    "                scores.append(score)\n",
    "    else:\n",
    "        print(\"Pb: neither wait1 nor wait2 is zero\")\n",
    "\n",
    "    return max(scores)\n",
    "\n",
    "starting_node = names.index(\"AA\")\n",
    "get_max_score_for2(starting_node, starting_node, 26, 0, 0, [])"
   ]
  },
  {
   "cell_type": "code",
   "execution_count": null,
   "metadata": {},
   "outputs": [],
   "source": [
    "f = open(\"data/data16.txt\", \"r\")\n",
    "lines = f.readlines()\n",
    "lines = [l[:-1] for l in lines]\n",
    "\n",
    "mygraph = init_graph(lines)\n",
    "D = get_distances_from_graph(mygraph)\n",
    "#print(D.shape)\n",
    "flows = [v.flow for v in mygraph.vertices]\n",
    "names = [v.name for v in mygraph.vertices]\n",
    "valves = [i for i in range(len(flows)) if flows[i]>0]\n",
    "\n",
    "starting_node = names.index(\"AA\")\n",
    "get_max_score_for2(starting_node, starting_node, 16, 0, 0, [])"
   ]
  },
  {
   "cell_type": "code",
   "execution_count": null,
   "metadata": {},
   "outputs": [],
   "source": []
  },
  {
   "cell_type": "code",
   "execution_count": null,
   "metadata": {},
   "outputs": [],
   "source": []
  }
 ],
 "metadata": {
  "kernelspec": {
   "display_name": "py310",
   "language": "python",
   "name": "python3"
  },
  "language_info": {
   "codemirror_mode": {
    "name": "ipython",
    "version": 3
   },
   "file_extension": ".py",
   "mimetype": "text/x-python",
   "name": "python",
   "nbconvert_exporter": "python",
   "pygments_lexer": "ipython3",
   "version": "3.10.4"
  },
  "orig_nbformat": 4,
  "vscode": {
   "interpreter": {
    "hash": "d324f871be833c9a8cf29764ec477236e5bf41c23d5b66dc997ba672b6b18820"
   }
  }
 },
 "nbformat": 4,
 "nbformat_minor": 2
}
