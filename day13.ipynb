{
 "cells": [
  {
   "cell_type": "code",
   "execution_count": 1,
   "metadata": {},
   "outputs": [
    {
     "name": "stdout",
     "output_type": "stream",
     "text": [
      "5506\n"
     ]
    }
   ],
   "source": [
    "# day 13\n",
    "f = open(\"data/data13.txt\", \"r\")\n",
    "lines = f.readlines()\n",
    "lines = [l[:-1] for l in lines]\n",
    "\n",
    "def lt(a, b):\n",
    "    if (type(a) is int and type(b) is int):\n",
    "        if a<b:\n",
    "            #print(a, b)\n",
    "            return 1\n",
    "        elif a==b:\n",
    "            return 0\n",
    "        else:\n",
    "            #print(a, b)\n",
    "            return -1\n",
    "    elif (type(a) is list and type(b) is list):\n",
    "        if len(a)==0:\n",
    "            if len(b)==0:\n",
    "                return 0\n",
    "            #print(\"list\", a, b)\n",
    "            return 1\n",
    "        elif len(b)==0:\n",
    "            #print(\"list\", a, b)\n",
    "            return -1 \n",
    "        else:\n",
    "            comp = lt(a[0], b[0])\n",
    "            if comp==0:\n",
    "                return lt(a[1:], b[1:])\n",
    "            else:\n",
    "                return comp\n",
    "    elif (type(a) is list and type(b) is int):\n",
    "        return lt(a, [b])\n",
    "    elif (type(b) is list and type(a) is int):\n",
    "        return lt([a], b)    \n",
    "\n",
    "L = []\n",
    "for i in range(0, len(lines), 3):\n",
    "    #print(eval(lines[i]), eval(lines[i+1]))\n",
    "    if lt(eval(lines[i]), eval(lines[i+1]))>0:\n",
    "        L.append(int(i/3+1))\n",
    "print(sum(L))\n",
    "\n"
   ]
  },
  {
   "cell_type": "code",
   "execution_count": 2,
   "metadata": {},
   "outputs": [
    {
     "name": "stdout",
     "output_type": "stream",
     "text": [
      "302\n"
     ]
    },
    {
     "data": {
      "text/plain": [
       "21756"
      ]
     },
     "execution_count": 2,
     "metadata": {},
     "output_type": "execute_result"
    }
   ],
   "source": [
    "list_elements = [[[2]], [[6]]]\n",
    "for i in range(0, len(lines), 3):\n",
    "    list_elements.append(eval(lines[i]))\n",
    "    list_elements.append(eval(lines[i+1]))\n",
    "n = len(list_elements)\n",
    "print(n)\n",
    "L_sorted = []\n",
    "for i in range(n):\n",
    "    e_min = list_elements[0]\n",
    "    for e in list_elements[1:]:\n",
    "        if lt(e, e_min)==1:\n",
    "            e_min = e\n",
    "    L_sorted.append(e_min)\n",
    "    list_elements.remove(e_min)\n",
    "\n",
    "(L_sorted.index([[2]])+1) * (L_sorted.index([[6]])+1)"
   ]
  },
  {
   "cell_type": "code",
   "execution_count": null,
   "metadata": {},
   "outputs": [],
   "source": []
  }
 ],
 "metadata": {
  "kernelspec": {
   "display_name": "webapp",
   "language": "python",
   "name": "python3"
  },
  "language_info": {
   "codemirror_mode": {
    "name": "ipython",
    "version": 3
   },
   "file_extension": ".py",
   "mimetype": "text/x-python",
   "name": "python",
   "nbconvert_exporter": "python",
   "pygments_lexer": "ipython3",
   "version": "3.11.0 | packaged by conda-forge | (main, Oct 25 2022, 06:09:06) [MSC v.1929 64 bit (AMD64)]"
  },
  "orig_nbformat": 4,
  "vscode": {
   "interpreter": {
    "hash": "c159fff2dae20e5a34c9a168b8e8d55fa3c437f1bc77dfa82c7d91803ab043eb"
   }
  }
 },
 "nbformat": 4,
 "nbformat_minor": 2
}
