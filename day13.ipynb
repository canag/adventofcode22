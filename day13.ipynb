{
 "cells": [
  {
   "cell_type": "code",
   "execution_count": 4,
   "metadata": {},
   "outputs": [
    {
     "name": "stdout",
     "output_type": "stream",
     "text": [
      "5506\n"
     ]
    }
   ],
   "source": [
    "# day 13\n",
    "f = open(\"data/data13.txt\", \"r\")\n",
    "lines = f.readlines()\n",
    "lines = [l[:-1] for l in lines]\n",
    "\n",
    "def lt(a, b):\n",
    "    match a, b:\n",
    "        case [int(), int()]:\n",
    "            if a<b:\n",
    "                return 1\n",
    "            elif a==b:\n",
    "                return 0\n",
    "            else:\n",
    "                return -1\n",
    "        case [list(), list()]:\n",
    "            if len(a)==0:\n",
    "                if len(b)==0:\n",
    "                    return 0\n",
    "                return 1\n",
    "            elif len(b)==0:\n",
    "                return -1 \n",
    "            else:\n",
    "                comp = lt(a[0], b[0])\n",
    "                if comp==0:\n",
    "                    return lt(a[1:], b[1:])\n",
    "                else:\n",
    "                    return comp\n",
    "        case [list(), int()]:\n",
    "            return lt(a, [b])\n",
    "        case [int(), list()]:\n",
    "            return lt([a], b)    \n",
    "\n",
    "L = []\n",
    "for i in range(0, len(lines), 3):\n",
    "    if lt(eval(lines[i]), eval(lines[i+1]))>0:\n",
    "        L.append(int(i/3+1))\n",
    "print(sum(L))\n",
    "\n"
   ]
  },
  {
   "cell_type": "code",
   "execution_count": 3,
   "metadata": {},
   "outputs": [
    {
     "name": "stdout",
     "output_type": "stream",
     "text": [
      "302\n"
     ]
    },
    {
     "data": {
      "text/plain": [
       "21756"
      ]
     },
     "execution_count": 3,
     "metadata": {},
     "output_type": "execute_result"
    }
   ],
   "source": [
    "list_elements = [[[2]], [[6]]]\n",
    "for i in range(0, len(lines), 3):\n",
    "    list_elements.append(eval(lines[i]))\n",
    "    list_elements.append(eval(lines[i+1]))\n",
    "n = len(list_elements)\n",
    "print(n)\n",
    "L_sorted = []\n",
    "for i in range(n):\n",
    "    e_min = list_elements[0]\n",
    "    for e in list_elements[1:]:\n",
    "        if lt(e, e_min)==1:\n",
    "            e_min = e\n",
    "    L_sorted.append(e_min)\n",
    "    list_elements.remove(e_min)\n",
    "\n",
    "(L_sorted.index([[2]])+1) * (L_sorted.index([[6]])+1)"
   ]
  },
  {
   "cell_type": "code",
   "execution_count": null,
   "metadata": {},
   "outputs": [],
   "source": []
  }
 ],
 "metadata": {
  "kernelspec": {
   "display_name": "py310",
   "language": "python",
   "name": "python3"
  },
  "language_info": {
   "codemirror_mode": {
    "name": "ipython",
    "version": 3
   },
   "file_extension": ".py",
   "mimetype": "text/x-python",
   "name": "python",
   "nbconvert_exporter": "python",
   "pygments_lexer": "ipython3",
   "version": "3.10.4"
  },
  "orig_nbformat": 4,
  "vscode": {
   "interpreter": {
    "hash": "d324f871be833c9a8cf29764ec477236e5bf41c23d5b66dc997ba672b6b18820"
   }
  }
 },
 "nbformat": 4,
 "nbformat_minor": 2
}
