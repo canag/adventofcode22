{
 "cells": [
  {
   "cell_type": "code",
   "execution_count": 5,
   "metadata": {},
   "outputs": [
    {
     "name": "stdout",
     "output_type": "stream",
     "text": [
      "10091\n",
      "|.......|\n",
      "|.......|\n",
      "|.......|\n",
      "|.......|\n",
      "+-------+\n"
     ]
    }
   ],
   "source": [
    "import pandas as pd\n",
    "import numpy as np\n",
    "\n",
    "f = open(\"data/data17.txt\", \"r\")\n",
    "line = f.readlines()[0][:-1]\n",
    "#line = \">>><<><>><<<>><>>><<<>>><<<><<<>><>><<>>\"\n",
    "print(len(line))\n",
    "\n",
    "def empty_A():\n",
    "    A = [[\"|\"] + ['.']*7 + [\"|\"] for i in range(4)]\n",
    "    A.insert(0, [\"+\"] + ['-']*7 + [\"+\"])\n",
    "    return A\n",
    "\n",
    "def print_A(A):\n",
    "    for l in A[::-1]:\n",
    "        print(\"\".join(l))\n",
    "    pass\n",
    "\n",
    "# shapes are defined as lists of blocks, with positionw relative to leftbottom corner \n",
    "shapes = [\n",
    "    [[0, 0], [1, 0], [2, 0], [3, 0]],\n",
    "    [[1, 0], [0, 1], [1, 1], [2, 1], [1, 2]],\n",
    "    [[0, 0], [1, 0], [2, 0], [2, 1], [2, 2]],\n",
    "    [[0, 0], [0, 1], [0, 2], [0, 3]],\n",
    "    [[0, 0], [1, 0], [0, 1], [1, 1]]\n",
    "]\n",
    "\n",
    "A = empty_A()\n",
    "print_A(A)"
   ]
  },
  {
   "cell_type": "code",
   "execution_count": 31,
   "metadata": {},
   "outputs": [],
   "source": [
    "def get_peak(N_shapes, force_end=False):\n",
    "    t = 0\n",
    "    peak = 0\n",
    "    combs = {}\n",
    "    A = empty_A()\n",
    "    d_out = {}\n",
    "\n",
    "    for k in range(1, N_shapes+1):\n",
    "        #print(\"k =\", k)\n",
    "        # create new shape\n",
    "        corner = (3, peak+4)\n",
    "        shape = shapes[(k-1)%5]\n",
    "        positions = [[corner[0]+c[0], corner[1]+c[1]] for c in shape]\n",
    "        zmax = max([pos[1] for pos in positions])\n",
    "        #print(\"zmax =\", zmax)\n",
    "        for i in range(zmax+1-len(A)):\n",
    "            A.append([\"|\"] + ['.']*7 + [\"|\"])\n",
    "\n",
    "        # drop new shape\n",
    "        can_drop = True\n",
    "        while can_drop:\n",
    "            # lateral shift\n",
    "            if line[t%len(line)]=='<':\n",
    "                shift = -1\n",
    "            elif line[t%len(line)]=='>':\n",
    "                shift = 1\n",
    "            else:\n",
    "                print(\"Bad readin of wind\")\n",
    "            can_shift = True\n",
    "            for pos in positions:\n",
    "                #print(pos, len(A))\n",
    "                if A[pos[1]][pos[0]+shift]!='.':\n",
    "                    can_shift = False\n",
    "            if can_shift:\n",
    "                for pos in positions:\n",
    "                    pos[0] += shift\n",
    "\n",
    "            # vertical shift\n",
    "            for pos in positions:\n",
    "                if A[pos[1]-1][pos[0]]!='.':\n",
    "                    can_drop = False\n",
    "            if can_drop:\n",
    "                for pos in positions:\n",
    "                    pos[1] -= 1\n",
    "\n",
    "            # moove to next iteration\n",
    "            t += 1\n",
    "\n",
    "        # fix the blocks in A\n",
    "        for pos in positions:\n",
    "            A[pos[1]][pos[0]] = '#'\n",
    "            if pos[1] > peak:\n",
    "                peak = pos[1]\n",
    "\n",
    "        if (k>1) and (force_end==False):\n",
    "            # keep the combination\n",
    "            comb = (t%len(line), (k-1)%5, positions[0][0], last_pos)\n",
    "            if comb in combs.keys():\n",
    "                print(\"loop_start\", combs[comb][0], \"score_from_loop_start\", combs[comb][1])\n",
    "                d_out[\"loop_start\"] = combs[comb][0]\n",
    "                d_out[\"score_from_loop_start\"] = combs[comb][1]\n",
    "                d_out[\"loop_end\"] = k\n",
    "                d_out[\"score_from_loop_end\"] = peak\n",
    "                print(comb, \"loop_end\", k, \"score_from_loop_end\", peak)\n",
    "                break\n",
    "            else:\n",
    "                combs[comb] = (k, peak)\n",
    "        \n",
    "        last_pos = positions[0][0]\n",
    "\n",
    "    d_out[\"peak\"] = peak\n",
    "    #d_out[\"A\"] = A\n",
    "    return d_out"
   ]
  },
  {
   "cell_type": "code",
   "execution_count": 33,
   "metadata": {},
   "outputs": [
    {
     "name": "stdout",
     "output_type": "stream",
     "text": [
      "loop_start 47 score_from_loop_start 71\n",
      "(306, 1, 4, 3) loop_end 1792 score_from_loop_end 2838\n"
     ]
    },
    {
     "data": {
      "text/plain": [
       "{'loop_start': 47,\n",
       " 'score_from_loop_start': 71,\n",
       " 'loop_end': 1792,\n",
       " 'score_from_loop_end': 2838,\n",
       " 'peak': 2838}"
      ]
     },
     "execution_count": 33,
     "metadata": {},
     "output_type": "execute_result"
    }
   ],
   "source": [
    "get_peak(10000)"
   ]
  },
  {
   "cell_type": "code",
   "execution_count": 34,
   "metadata": {},
   "outputs": [
    {
     "name": "stdout",
     "output_type": "stream",
     "text": [
      "True answer: 3217\n",
      "loop_start 47 score_from_loop_start 71\n",
      "(306, 1, 4, 3) loop_end 1792 score_from_loop_end 2838\n",
      "after last loop 2838\n",
      "residual 277 with peak 450\n",
      "my answer: 3217\n"
     ]
    }
   ],
   "source": [
    "N = 2022 # test 3068, true 3217\n",
    "print(\"True answer:\", get_peak(N, True)['peak'])\n",
    "d = get_peak(N)\n",
    "\n",
    "loop_start = d['loop_start']\n",
    "score_from_loop_start = d['score_from_loop_start']\n",
    "loop_end = d['loop_end']\n",
    "score_from_loop_end = d['score_from_loop_end']\n",
    "loop_size = loop_end - loop_start\n",
    "\n",
    "answer = score_from_loop_start + ((N-loop_start) // loop_size) * (score_from_loop_end - score_from_loop_start)\n",
    "print(\"after last loop\", answer)\n",
    "residual = (N-loop_start)%loop_size + loop_start\n",
    "d2 = get_peak(residual)\n",
    "print(\"residual\", residual, \"with peak\", d2['peak'])\n",
    "answer = answer + d2['peak'] - score_from_loop_start\n",
    "\n",
    "print(\"my answer:\", answer)"
   ]
  },
  {
   "cell_type": "code",
   "execution_count": 35,
   "metadata": {},
   "outputs": [
    {
     "name": "stdout",
     "output_type": "stream",
     "text": [
      "after last loop 1585673350905\n",
      "residual 1010 with peak 1588\n",
      "my answer: 1585673352422\n"
     ]
    }
   ],
   "source": [
    "N = 1000000000000\n",
    "answer = score_from_loop_start + ((N-loop_start) // loop_size) * (score_from_loop_end - score_from_loop_start)\n",
    "print(\"after last loop\", answer)\n",
    "residual = (N-loop_start)%loop_size + loop_start\n",
    "d2 = get_peak(residual)\n",
    "print(\"residual\", residual, \"with peak\", d2['peak'])\n",
    "answer = answer + d2['peak'] - score_from_loop_start\n",
    "\n",
    "print(\"my answer:\", answer)"
   ]
  },
  {
   "cell_type": "code",
   "execution_count": null,
   "metadata": {},
   "outputs": [],
   "source": []
  }
 ],
 "metadata": {
  "kernelspec": {
   "display_name": "py310",
   "language": "python",
   "name": "python3"
  },
  "language_info": {
   "codemirror_mode": {
    "name": "ipython",
    "version": 3
   },
   "file_extension": ".py",
   "mimetype": "text/x-python",
   "name": "python",
   "nbconvert_exporter": "python",
   "pygments_lexer": "ipython3",
   "version": "3.10.4 | packaged by conda-forge | (main, Mar 30 2022, 08:38:02) [MSC v.1916 64 bit (AMD64)]"
  },
  "vscode": {
   "interpreter": {
    "hash": "d324f871be833c9a8cf29764ec477236e5bf41c23d5b66dc997ba672b6b18820"
   }
  }
 },
 "nbformat": 4,
 "nbformat_minor": 4
}
