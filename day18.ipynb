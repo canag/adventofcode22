{
 "cells": [
  {
   "cell_type": "code",
   "execution_count": 44,
   "metadata": {},
   "outputs": [
    {
     "name": "stdout",
     "output_type": "stream",
     "text": [
      "2694\n"
     ]
    }
   ],
   "source": [
    "import pandas as pd\n",
    "import numpy as np\n",
    "\n",
    "f = open(\"data/data18.txt\", \"r\")\n",
    "lines = [line[:-1] for line in f.readlines()]\n",
    "print(len(lines))"
   ]
  },
  {
   "cell_type": "code",
   "execution_count": 45,
   "metadata": {},
   "outputs": [
    {
     "name": "stdout",
     "output_type": "stream",
     "text": [
      "2694 4580 5792\n"
     ]
    }
   ],
   "source": [
    "# part 1\n",
    "free_faces = set()\n",
    "covered_faces = set()\n",
    "cubes = set()\n",
    "for line in lines:\n",
    "    i, j, k = [2*int(k) for k in line.split(',')]\n",
    "    cubes.add((i, j, k))\n",
    "    new_faces = {\n",
    "        (i, j+1, k+1), (i+1, j, k+1), (i+1, j+1, k),\n",
    "        (i+2, j+1, k+1), (i+1, j+2, k+1), (i+1, j+1, k+2)\n",
    "    }\n",
    "    covered_faces = covered_faces.union(free_faces & new_faces)\n",
    "    free_faces = free_faces ^ new_faces\n",
    "    \n",
    "print(len(cubes), len(free_faces), len(covered_faces))"
   ]
  },
  {
   "cell_type": "code",
   "execution_count": 28,
   "metadata": {},
   "outputs": [
    {
     "name": "stdout",
     "output_type": "stream",
     "text": [
      "14\n",
      "{(5, 7, 6), (5, 3, 6), (5, 4, 11), (3, 5, 6), (7, 5, 10), (5, 6, 11), (3, 5, 10), (5, 5, 10), (7, 5, 6), (6, 5, 11), (5, 7, 10), (5, 3, 10), (5, 5, 12), (4, 5, 11)}\n"
     ]
    }
   ],
   "source": [
    "# part 2\n",
    "interior_faces = set()\n",
    "for (i, j, k) in free_faces:\n",
    "    cond_plus = False\n",
    "    cond_minus = False\n",
    "    if i%2==0: # face is at x=cte\n",
    "        for f2 in free_faces:\n",
    "            if (f2[1]==j) and (f2[2]==k):\n",
    "                if f2[0]>i:\n",
    "                    cond_plus = True\n",
    "                elif f2[0]<i:\n",
    "                    cond_minus = True         \n",
    "    elif j%2==0: # face is at y=cte\n",
    "        for f2 in free_faces:\n",
    "            if (f2[0]==i) and (f2[2]==k):\n",
    "                if f2[1]>j:\n",
    "                    cond_plus = True\n",
    "                elif f2[1]<j:\n",
    "                    cond_minus = True\n",
    "    elif k%2==0: # face is at z=cte\n",
    "        for f2 in free_faces:\n",
    "            if (f2[0]==i) and (f2[1]==j):\n",
    "                if f2[2]>k:\n",
    "                    cond_plus = True\n",
    "                elif f2[2]<k:\n",
    "                    cond_minus = True\n",
    "    if cond_minus and cond_plus:\n",
    "        interior_faces.add((i, j, k))\n",
    "print(len(interior_faces))\n",
    "print(interior_faces)\n",
    "    "
   ]
  },
  {
   "cell_type": "code",
   "execution_count": 46,
   "metadata": {},
   "outputs": [
    {
     "name": "stdout",
     "output_type": "stream",
     "text": [
      "50\n",
      "4280\n"
     ]
    }
   ],
   "source": [
    "xmin, xmax = min([f[0] for f in free_faces]), max([f[0] for f in free_faces]) \n",
    "ymin, ymax = min([f[1] for f in free_faces]), max([f[1] for f in free_faces])\n",
    "zmin, zmax = min([f[2] for f in free_faces]), max([f[2] for f in free_faces])\n",
    "\n",
    "interior_cubes = set()\n",
    "to_remove = set()\n",
    "for i in range(xmin, xmax):\n",
    "    for j in range(ymin, ymax):\n",
    "        for k in range(zmin, zmax):\n",
    "            tmp_faces = {\n",
    "                (i, j+1, k+1), (i+1, j, k+1), (i+1, j+1, k),\n",
    "                (i+2, j+1, k+1), (i+1, j+2, k+1), (i+1, j+1, k+2)\n",
    "            }\n",
    "            if tmp_faces.issubset(free_faces) and ((i,j,k) not in cubes):\n",
    "                interior_cubes.add((i, j, k))\n",
    "                to_remove = to_remove.union(tmp_faces)\n",
    "print(len(interior_cubes))\n",
    "print(len(free_faces - to_remove))\n"
   ]
  },
  {
   "cell_type": "code",
   "execution_count": 47,
   "metadata": {},
   "outputs": [
    {
     "data": {
      "text/plain": [
       "(2, 44, 0, 44, 2, 44)"
      ]
     },
     "execution_count": 47,
     "metadata": {},
     "output_type": "execute_result"
    }
   ],
   "source": [
    "xmin, xmax, ymin, ymax, zmin, zmax"
   ]
  },
  {
   "cell_type": "code",
   "execution_count": null,
   "metadata": {},
   "outputs": [],
   "source": []
  }
 ],
 "metadata": {
  "kernelspec": {
   "display_name": "py310",
   "language": "python",
   "name": "python3"
  },
  "language_info": {
   "codemirror_mode": {
    "name": "ipython",
    "version": 3
   },
   "file_extension": ".py",
   "mimetype": "text/x-python",
   "name": "python",
   "nbconvert_exporter": "python",
   "pygments_lexer": "ipython3",
   "version": "3.10.4 | packaged by conda-forge | (main, Mar 30 2022, 08:38:02) [MSC v.1916 64 bit (AMD64)]"
  },
  "orig_nbformat": 4,
  "vscode": {
   "interpreter": {
    "hash": "d324f871be833c9a8cf29764ec477236e5bf41c23d5b66dc997ba672b6b18820"
   }
  }
 },
 "nbformat": 4,
 "nbformat_minor": 2
}
