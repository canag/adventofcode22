{
 "cells": [
  {
   "cell_type": "code",
   "execution_count": 37,
   "metadata": {},
   "outputs": [
    {
     "name": "stdout",
     "output_type": "stream",
     "text": [
      "2694\n"
     ]
    }
   ],
   "source": [
    "import pandas as pd\n",
    "import numpy as np\n",
    "\n",
    "f = open(\"data/data18.txt\", \"r\")\n",
    "lines = [line[:-1] for line in f.readlines()]\n",
    "print(len(lines))"
   ]
  },
  {
   "cell_type": "code",
   "execution_count": 40,
   "metadata": {},
   "outputs": [
    {
     "name": "stdout",
     "output_type": "stream",
     "text": [
      "4580\n"
     ]
    }
   ],
   "source": [
    "# part 1\n",
    "free_faces = set()\n",
    "cubes = set()\n",
    "for line in lines:\n",
    "    i, j, k = [2*int(k) for k in line.split(',')]\n",
    "    cubes.add((i, j, k))\n",
    "    new_faces = {\n",
    "        (i, j+1, k+1), (i+1, j, k+1), (i+1, j+1, k),\n",
    "        (i+2, j+1, k+1), (i+1, j+2, k+1), (i+1, j+1, k+2)\n",
    "    }\n",
    "    free_faces = free_faces ^ new_faces\n",
    "    \n",
    "print(len(free_faces))"
   ]
  },
  {
   "cell_type": "code",
   "execution_count": 41,
   "metadata": {},
   "outputs": [
    {
     "name": "stdout",
     "output_type": "stream",
     "text": [
      "23.0 24.0 23.0 12696.0\n",
      "10002\n",
      "True\n",
      "1480\n",
      "2610\n"
     ]
    }
   ],
   "source": [
    "#part 2\n",
    "imin, imax = min([c[0] for c in cubes]) - 2, max([c[0] for c in cubes]) + 4\n",
    "jmin, jmax = min([c[1] for c in cubes]) - 2, max([c[1] for c in cubes]) + 4\n",
    "kmin, kmax = min([c[2] for c in cubes]) - 2, max([c[2] for c in cubes]) + 4\n",
    "print((imax-imin)/2, (jmax-jmin)/2, (kmax-kmin)/2, (imax-imin)*(jmax-jmin)*(kmax-kmin)/8)\n",
    "free_cubes = set([(i,j,k) for i in range(imin, imax, 2) for j in range(jmin, jmax, 2) for k in range(kmin, kmax, 2)]) - cubes\n",
    "print(len(free_cubes))\n",
    "print((imin, jmin, kmin) in free_cubes)\n",
    "\n",
    "# add start point\n",
    "start = (imin, jmin, kmin)\n",
    "free_cubes.remove(start)\n",
    "border = {start,}\n",
    "\n",
    "cond = True\n",
    "while cond==True:\n",
    "    new_border = set()\n",
    "    for b in border:\n",
    "        nei = [\n",
    "            (b[0]+2, b[1], b[2]), (b[0]-2, b[1], b[2]),\n",
    "            (b[0], b[1]+2, b[2]), (b[0], b[1]-2, b[2]),\n",
    "            (b[0], b[1], b[2]+2), (b[0], b[1], b[2]-2)\n",
    "            ]\n",
    "        for new in nei:\n",
    "            if new in free_cubes:\n",
    "                new_border.add(new)\n",
    "    \n",
    "    free_cubes = free_cubes - new_border\n",
    "    border = new_border\n",
    "    if len(new_border)==0:\n",
    "        cond = False\n",
    "print(len(free_cubes))\n",
    "\n",
    "for (i,j,k) in free_cubes:\n",
    "    faces = {\n",
    "        (i, j+1, k+1), (i+1, j, k+1), (i+1, j+1, k),\n",
    "        (i+2, j+1, k+1), (i+1, j+2, k+1), (i+1, j+1, k+2)\n",
    "    }\n",
    "    free_faces = free_faces - faces\n",
    "\n",
    "print(len(free_faces))"
   ]
  },
  {
   "cell_type": "code",
   "execution_count": null,
   "metadata": {},
   "outputs": [],
   "source": []
  }
 ],
 "metadata": {
  "kernelspec": {
   "display_name": "py310",
   "language": "python",
   "name": "python3"
  },
  "language_info": {
   "codemirror_mode": {
    "name": "ipython",
    "version": 3
   },
   "file_extension": ".py",
   "mimetype": "text/x-python",
   "name": "python",
   "nbconvert_exporter": "python",
   "pygments_lexer": "ipython3",
   "version": "3.10.4"
  },
  "orig_nbformat": 4,
  "vscode": {
   "interpreter": {
    "hash": "d324f871be833c9a8cf29764ec477236e5bf41c23d5b66dc997ba672b6b18820"
   }
  }
 },
 "nbformat": 4,
 "nbformat_minor": 2
}
