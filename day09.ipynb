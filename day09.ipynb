{
 "cells": [
  {
   "cell_type": "code",
   "execution_count": 2,
   "metadata": {},
   "outputs": [
    {
     "name": "stdout",
     "output_type": "stream",
     "text": [
      "['R 4', 'U 4', 'L 3', 'D 1', 'R 4']\n"
     ]
    }
   ],
   "source": [
    "# day 9\n",
    "import numpy as np\n",
    "\n",
    "f = open(\"data/data09.txt\", \"r\")\n",
    "lines = f.readlines()\n",
    "lines = [l[:-1] for l in lines]\n",
    "lines = ['R 4', 'U 4', 'L 3', 'D 1', 'R 4', 'D 1', 'L 5', 'R 2']\n",
    "print(lines[:5])"
   ]
  },
  {
   "cell_type": "code",
   "execution_count": 3,
   "metadata": {},
   "outputs": [
    {
     "name": "stdout",
     "output_type": "stream",
     "text": [
      "13\n"
     ]
    }
   ],
   "source": [
    "def move(pos):\n",
    "    # from head position relative to tail\n",
    "    # gets the move that tail must do\n",
    "    if max(np.abs(pos[0]), np.abs(pos[1]))<2:\n",
    "        return np.array([0, 0])\n",
    "    if pos[0]==2:\n",
    "        return np.array([1, max(min(1, pos[1]), -1)])\n",
    "    if pos[0]==-2:\n",
    "        return np.array([-1, max(min(1, pos[1]), -1)])\n",
    "    if pos[1]==2:\n",
    "        return np.array([max(min(1, pos[0]), -1), 1])\n",
    "    if pos[1]==-2:\n",
    "        return np.array([max(min(1, pos[0]), -1), -1])\n",
    "\n",
    "# convention x-y graph\n",
    "d = {\n",
    "    'R': np.array([1, 0]),\n",
    "    'L': np.array([-1, 0]),\n",
    "    'U': np.array([0, 1]),\n",
    "    'D': np.array([0, -1])}\n",
    "\n",
    "head = np.array([0, 0])\n",
    "tail = np.array([0, 0])\n",
    "positions = set()\n",
    "\n",
    "for line in lines:\n",
    "    #print(line)\n",
    "    direction = line[0]\n",
    "    number = int(line[1:])\n",
    "    for k in range(number):\n",
    "        head += d[direction]\n",
    "        tail += move(head-tail)\n",
    "        positions.add((int(tail[0]), int(tail[1])))\n",
    "    #print(head, tail)\n",
    "print(len(positions))"
   ]
  },
  {
   "cell_type": "code",
   "execution_count": 4,
   "metadata": {},
   "outputs": [
    {
     "name": "stdout",
     "output_type": "stream",
     "text": [
      "2478\n"
     ]
    }
   ],
   "source": [
    "f = open(\"data/data09.txt\", \"r\")\n",
    "lines = f.readlines()\n",
    "lines = [l[:-1] for l in lines]\n",
    "\n",
    "#lines = ['R 5', 'U 8', 'L 8', 'D 3', 'R 17', 'D 10', 'L 25', 'U 20']\n",
    "\n",
    "N = 10\n",
    "knots = np.zeros((N, 2))\n",
    "positions = set()\n",
    "\n",
    "for line in lines:\n",
    "    direction = line[0]\n",
    "    number = int(line[1:])\n",
    "    #print(direction, number)\n",
    "    for k in range(number):\n",
    "        knots[0, :] += d[direction]\n",
    "        for i in range(1, N):\n",
    "            knots[i, :] += move(knots[i-1, :] - knots[i, :])\n",
    "        positions.add((int(knots[-1, 0]), int(knots[-1, 1])))\n",
    "    #print(knots)\n",
    "print(len(positions))"
   ]
  },
  {
   "cell_type": "code",
   "execution_count": null,
   "metadata": {},
   "outputs": [],
   "source": []
  }
 ],
 "metadata": {
  "kernelspec": {
   "display_name": "py310",
   "language": "python",
   "name": "python3"
  },
  "language_info": {
   "codemirror_mode": {
    "name": "ipython",
    "version": 3
   },
   "file_extension": ".py",
   "mimetype": "text/x-python",
   "name": "python",
   "nbconvert_exporter": "python",
   "pygments_lexer": "ipython3",
   "version": "3.10.4"
  },
  "orig_nbformat": 4,
  "vscode": {
   "interpreter": {
    "hash": "d324f871be833c9a8cf29764ec477236e5bf41c23d5b66dc997ba672b6b18820"
   }
  }
 },
 "nbformat": 4,
 "nbformat_minor": 2
}
