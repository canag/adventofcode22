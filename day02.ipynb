{
 "cells": [
  {
   "cell_type": "code",
   "execution_count": 1,
   "metadata": {},
   "outputs": [
    {
     "name": "stdout",
     "output_type": "stream",
     "text": [
      "13682\n",
      "12881\n"
     ]
    }
   ],
   "source": [
    "# day 2\n",
    "import pandas as pd\n",
    "f = open(\"data/data02.txt\", \"r\")\n",
    "lines = f.readlines()\n",
    "lines = [l[:-1] for l in lines]\n",
    "\n",
    "# A Rock B Paper C Scissor\n",
    "# A < B < C < A\n",
    "# X Rock Y Paper Z Scissor\n",
    "# X < Y < Z < X\n",
    "\n",
    "df = pd.DataFrame(lines, columns=['play'])\n",
    "d = {\n",
    "    'A X': 1+3,\n",
    "    'A Y': 2+6,\n",
    "    'A Z': 3+0,\n",
    "    'B X': 1+0,\n",
    "    'B Y': 2+3,\n",
    "    'B Z': 3+6,\n",
    "    'C X': 1+6,\n",
    "    'C Y': 2+0,\n",
    "    'C Z': 3+3}\n",
    "df['score'] = df.play.map(d)\n",
    "print(df.score.sum())\n",
    "\n",
    "# X loose, Y draw, Z win\n",
    "\n",
    "d2 = {\n",
    "    'A X': 'A Z',\n",
    "    'A Y': 'A X',\n",
    "    'A Z': 'A Y',\n",
    "    'B X': 'B X',\n",
    "    'B Y': 'B Y',\n",
    "    'B Z': 'B Z',\n",
    "    'C X': 'C Y',\n",
    "    'C Y': 'C Z',\n",
    "    'C Z': 'C X'}\n",
    "df['play2'] = df.play.map(d2)\n",
    "df['score2'] = df.play2.map(d)\n",
    "print(df.score2.sum())"
   ]
  },
  {
   "cell_type": "code",
   "execution_count": null,
   "metadata": {},
   "outputs": [],
   "source": []
  }
 ],
 "metadata": {
  "kernelspec": {
   "display_name": "py310",
   "language": "python",
   "name": "python3"
  },
  "language_info": {
   "codemirror_mode": {
    "name": "ipython",
    "version": 3
   },
   "file_extension": ".py",
   "mimetype": "text/x-python",
   "name": "python",
   "nbconvert_exporter": "python",
   "pygments_lexer": "ipython3",
   "version": "3.10.4"
  },
  "orig_nbformat": 4,
  "vscode": {
   "interpreter": {
    "hash": "d324f871be833c9a8cf29764ec477236e5bf41c23d5b66dc997ba672b6b18820"
   }
  }
 },
 "nbformat": 4,
 "nbformat_minor": 2
}
