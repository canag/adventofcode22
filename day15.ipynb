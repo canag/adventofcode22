{
 "cells": [
  {
   "cell_type": "code",
   "execution_count": 1,
   "metadata": {},
   "outputs": [
    {
     "name": "stdout",
     "output_type": "stream",
     "text": [
      "All variables created, A will have size 6211905 6982765\n"
     ]
    }
   ],
   "source": [
    "# day 15\n",
    "import re\n",
    "import numpy as np\n",
    "\n",
    "f = open(\"data/data15.txt\", \"r\")\n",
    "lines = f.readlines()\n",
    "lines = [l[:-1] for l in lines]\n",
    "\n",
    "d = {}\n",
    "distances = {}\n",
    "L_sensors = []\n",
    "L_beacons = []\n",
    "for line in lines:\n",
    "    x, y, a, b = tuple([int(z) for z in re.findall(r'-?\\d+', line)])\n",
    "    L_sensors.append((x, y)) \n",
    "    L_beacons.append((a, b))\n",
    "    d[(x, y)] = (a, b)\n",
    "    distances[(x, y)] = np.abs(x-a) + np.abs(y-b)\n",
    "\n",
    "xmin = min([s[0] for s in L_sensors] + [b[0] for b in L_beacons] + [s[0]-distances[s] for s in L_sensors])\n",
    "xmax = max([s[0] for s in L_sensors] + [b[0] for b in L_beacons] + [s[0]+distances[s] for s in L_sensors])\n",
    "ymin = min([s[1] for s in L_sensors] + [b[1] for b in L_beacons] + [s[1]-distances[s] for s in L_sensors])\n",
    "ymax = max([s[1] for s in L_sensors] + [b[1] for b in L_beacons] + [s[1]+distances[s] for s in L_sensors])\n",
    "print(\"All variables created, A will have size\", xmax-xmin, ymax-ymin)"
   ]
  },
  {
   "cell_type": "code",
   "execution_count": 2,
   "metadata": {},
   "outputs": [
    {
     "name": "stdout",
     "output_type": "stream",
     "text": [
      "4737567\n"
     ]
    }
   ],
   "source": [
    "y0 = 2000000\n",
    "k = 0\n",
    "x_vect = np.arange(xmin, xmax+1)\n",
    "z = 0 * x_vect\n",
    "for s in L_sensors:\n",
    "    newdist = np.abs(s[0]-x_vect) + np.abs(s[1]-y0)\n",
    "    z += newdist<=distances[s]\n",
    "\n",
    "for b in L_beacons:\n",
    "    i = b[0]-xmin\n",
    "    if b[1]==y0:\n",
    "        z[i] = 0\n",
    "    \n",
    "print((z>0).sum())"
   ]
  },
  {
   "cell_type": "code",
   "execution_count": 3,
   "metadata": {},
   "outputs": [
    {
     "name": "stdout",
     "output_type": "stream",
     "text": [
      "3316868.0 2686239.0\n",
      "3316868.0 2686239.0\n",
      "3316868.0 2686239.0\n",
      "3316868.0 2686239.0\n"
     ]
    }
   ],
   "source": [
    "#N = 20\n",
    "N = 4000000\n",
    "\n",
    "corners = {}\n",
    "newcorners = {}\n",
    "rects = {}\n",
    "for s in L_sensors:\n",
    "    d = distances[s]+1\n",
    "    corners[s] = [(s[0], s[1]-d), (s[0]+d, s[1]), (s[0], s[1]+d), (s[0]-d, s[1])]\n",
    "    newcorners[s] = [((x[0]+x[1])/2, (x[0]-x[1])/2) for x in corners[s]]\n",
    "    rects[s] = (newcorners[s][3][0], newcorners[s][1][0], newcorners[s][3][1], newcorners[s][1][1])\n",
    "\n",
    "def get_intersect(rect1, rect2):\n",
    "    xmin1, xmax1, ymin1, ymax1 = rect1\n",
    "    xmin2, xmax2, ymin2, ymax2 = rect2\n",
    "    x1 = max(xmin1, xmin2)\n",
    "    x2 = min(xmax1, xmax2)\n",
    "    y1 = max(ymin1, ymin2)\n",
    "    y2 = min(ymax1, ymax2)\n",
    "    return [(x1, y1), (x1, y2), (x2, y1), (x2, y2)]\n",
    "\n",
    "for i, s1 in enumerate(L_sensors):\n",
    "    for j, s2 in enumerate(L_sensors[i+1:]):\n",
    "        L = get_intersect(rects[s1], rects[s2])\n",
    "        #print(i, i+1+j)\n",
    "        for e in L:\n",
    "            x = e[0] + e[1]\n",
    "            y = e[0] - e[1]\n",
    "            if x>=0 and x<=N and y>=0 and y<=N:\n",
    "                cond = True\n",
    "                for k, ss in enumerate(L_sensors):\n",
    "                    dd = distances[ss]\n",
    "                    if (np.abs(x-ss[0])+np.abs(y-ss[1]))<=dd:\n",
    "                        #f cond:\n",
    "                            #print(\"false because of\", k)\n",
    "                        cond = False\n",
    "                if cond:\n",
    "                    print(x, y) \n"
   ]
  },
  {
   "cell_type": "code",
   "execution_count": 4,
   "metadata": {},
   "outputs": [
    {
     "data": {
      "text/plain": [
       "13267474686239"
      ]
     },
     "execution_count": 4,
     "metadata": {},
     "output_type": "execute_result"
    }
   ],
   "source": [
    "3316868*4000000+2686239"
   ]
  },
  {
   "cell_type": "code",
   "execution_count": 5,
   "metadata": {},
   "outputs": [
    {
     "data": {
      "image/png": "[encoded data removed]",
      "text/plain": [
       "<Figure size 720x720 with 1 Axes>"
      ]
     },
     "metadata": {
      "needs_background": "light"
     },
     "output_type": "display_data"
    }
   ],
   "source": [
    "import matplotlib.pyplot as plt\n",
    "from matplotlib.patches import Rectangle\n",
    "from matplotlib.collections import PatchCollection\n",
    "\n",
    "list_rects = []\n",
    "\n",
    "fig, ax = plt.subplots(figsize=(10, 10))\n",
    "\n",
    "for s in L_sensors:\n",
    "    d = distances[s]\n",
    "    corner_min = (s[0]-d, s[1])\n",
    "    corner_max = (s[0]+d, s[1])\n",
    "    umin = (corner_min[0] + corner_min[1]) / 2\n",
    "    umax = (corner_max[0] + corner_max[1]) / 2\n",
    "    vmin = (corner_min[0] - corner_min[1]) / 2\n",
    "    vmax = (corner_max[0] - corner_max[1]) / 2\n",
    "    ax.add_patch(Rectangle((umin, vmin), umax-umin, vmax-vmin, alpha=0.5))\n",
    "\n",
    "\n",
    "plt.plot([0, N/2], [0, N/2])\n",
    "plt.plot([N, N/2], [0, N/2])\n",
    "plt.plot([N, N/2], [0, -N/2])\n",
    "plt.plot([0, N/2], [0, -N/2])\n",
    "#plt.xlim(0, N)\n",
    "#plt.ylim(-N/2, N/2)\n",
    "plt.xlim(3001550, 3001556)\n",
    "plt.ylim(315310, 315320)\n",
    "plt.axis('equal')\n",
    "#plt.grid(True)\n",
    "plt.show()"
   ]
  },
  {
   "cell_type": "code",
   "execution_count": null,
   "metadata": {},
   "outputs": [],
   "source": []
  }
 ],
 "metadata": {
  "kernelspec": {
   "display_name": "webapp",
   "language": "python",
   "name": "python3"
  },
  "language_info": {
   "codemirror_mode": {
    "name": "ipython",
    "version": 3
   },
   "file_extension": ".py",
   "mimetype": "text/x-python",
   "name": "python",
   "nbconvert_exporter": "python",
   "pygments_lexer": "ipython3",
   "version": "3.11.0 | packaged by conda-forge | (main, Oct 25 2022, 06:09:06) [MSC v.1929 64 bit (AMD64)]"
  },
  "orig_nbformat": 4,
  "vscode": {
   "interpreter": {
    "hash": "c159fff2dae20e5a34c9a168b8e8d55fa3c437f1bc77dfa82c7d91803ab043eb"
   }
  }
 },
 "nbformat": 4,
 "nbformat_minor": 2
}
