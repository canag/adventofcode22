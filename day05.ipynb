{
 "cells": [
  {
   "cell_type": "code",
   "execution_count": 1,
   "metadata": {},
   "outputs": [
    {
     "name": "stdout",
     "output_type": "stream",
     "text": [
      "[V]     [B]                     [C]\n",
      "[C]     [N] [G]         [W]     [P]\n",
      "[W]     [C] [Q] [S]     [C]     [M]\n",
      "[L]     [W] [B] [Z]     [F] [S] [V]\n",
      "[R]     [G] [H] [F] [P] [V] [M] [T]\n",
      "[M] [L] [R] [D] [L] [N] [P] [D] [W]\n",
      "[F] [Q] [S] [C] [G] [G] [Z] [P] [N]\n",
      "[Q] [D] [P] [L] [V] [D] [D] [C] [Z]\n",
      " 1   2   3   4   5   6   7   8   9 \n",
      "\n",
      "move 1 from 9 to 2\n",
      "move 4 from 6 to 1\n"
     ]
    }
   ],
   "source": [
    "# day5\n",
    "f = open(\"data/data05.txt\", \"r\")\n",
    "lines = f.readlines()\n",
    "lines = [l[:-1] for l in lines]\n",
    "for i in range(12):\n",
    "    print(lines[i])"
   ]
  },
  {
   "cell_type": "code",
   "execution_count": 20,
   "metadata": {},
   "outputs": [
    {
     "name": "stdout",
     "output_type": "stream",
     "text": [
      "QDPLVDDCZ 9\n",
      "FQSCGGZPN 9\n",
      "MLRDLNPDW 9\n",
      "R GHFPVMT 9\n",
      "L WBZ FSV 9\n",
      "W CQS C M 9\n",
      "C NG  W P 9\n",
      "V B     C 9\n"
     ]
    }
   ],
   "source": [
    "def get_piles(lines):\n",
    "    piles = [[] for i in range(9)]\n",
    "    #print(piles)\n",
    "    for i in range(7, -1, -1):\n",
    "        s = lines[i][1::4]\n",
    "        print(s, len(s))\n",
    "        for k in range(9):\n",
    "            piles[k].append(s[k])\n",
    "\n",
    "    for k in range(9):\n",
    "        piles[k] = list(filter(lambda a: a != ' ', piles[k]))\n",
    "    return piles\n",
    "\n",
    "piles = get_piles(lines)\n",
    "\n"
   ]
  },
  {
   "cell_type": "code",
   "execution_count": null,
   "metadata": {},
   "outputs": [
    {
     "name": "stdout",
     "output_type": "stream",
     "text": [
      "move 1 from 9 to 2\n",
      "move 4 from 6 to 1\n",
      "move 4 from 2 to 6\n",
      "move 5 from 8 to 7\n",
      "move 4 from 9 to 2\n",
      "[['V'], ['L', 'C', 'G', 'C', 'Q', 'C', 'Z', 'S', 'T', 'F', 'M', 'F', 'H', 'N', 'B', 'R', 'W'], ['V', 'Z', 'L'], ['C', 'C'], ['W'], ['F', 'L', 'D', 'G', 'L', 'S', 'C', 'N', 'B', 'D', 'M', 'G'], ['Z', 'M', 'P', 'S'], ['W', 'D', 'V', 'N', 'P', 'W', 'D', 'D'], ['V', 'Q', 'G', 'P', 'P', 'P', 'R', 'Q']]\n"
     ]
    }
   ],
   "source": [
    "for i in range(10, 15):\n",
    "    print(lines[i])\n",
    "\n",
    "def move(piles, line):\n",
    "    a, tmp = line[5:].split(' from ')\n",
    "    b, c = tmp.split(' to ')\n",
    "    for i in range(int(a)):\n",
    "        e = piles[int(b)-1].pop()\n",
    "        piles[int(c)-1].append(e)\n",
    "    return piles\n",
    "\n",
    "for line in lines[10:]:\n",
    "    move(piles, line)\n",
    "print(piles)"
   ]
  },
  {
   "cell_type": "code",
   "execution_count": null,
   "metadata": {},
   "outputs": [
    {
     "name": "stdout",
     "output_type": "stream",
     "text": [
      "VWLCWGSDQ\n"
     ]
    }
   ],
   "source": [
    "res = \"\"\n",
    "for pile in piles:\n",
    "    res += pile[-1]\n",
    "print(res)"
   ]
  },
  {
   "cell_type": "code",
   "execution_count": 21,
   "metadata": {},
   "outputs": [
    {
     "name": "stdout",
     "output_type": "stream",
     "text": [
      "QDPLVDDCZ 9\n",
      "FQSCGGZPN 9\n",
      "MLRDLNPDW 9\n",
      "R GHFPVMT 9\n",
      "L WBZ FSV 9\n",
      "W CQS C M 9\n",
      "C NG  W P 9\n",
      "V B     C 9\n",
      "[['Q', 'F', 'M', 'R', 'L', 'W', 'C', 'V'], ['D', 'Q', 'L'], ['P', 'S', 'R', 'G', 'W', 'C', 'N', 'B'], ['L', 'C', 'D', 'H', 'B', 'Q', 'G'], ['V', 'G', 'L', 'F', 'Z', 'S'], ['D', 'G', 'N', 'P'], ['D', 'Z', 'P', 'V', 'F', 'C', 'W'], ['C', 'P', 'D', 'M', 'S'], ['Z', 'N', 'W', 'T', 'V', 'M', 'P', 'C']]\n",
      "[['Q', 'F', 'M', 'R', 'L', 'W', 'C', 'V'], ['D', 'Q', 'L', 'P', 'C'], ['P', 'S', 'R', 'G', 'W', 'C', 'N', 'B'], ['L', 'C', 'D', 'H', 'B', 'Q', 'G'], ['V', 'G', 'L', 'F', 'Z', 'S'], ['D', 'G', 'N', 'P'], ['D', 'Z', 'P', 'V', 'F', 'C', 'W'], ['C', 'P', 'D', 'M', 'S'], ['Z', 'N', 'W', 'T', 'V', 'M']]\n"
     ]
    }
   ],
   "source": [
    "def move2(piles, line):\n",
    "    a, tmp = line[5:].split(' from ')\n",
    "    b, c = tmp.split(' to ')\n",
    "    tmp = []\n",
    "    for i in range(int(a)):\n",
    "        tmp.append(piles[int(b)-1].pop())\n",
    "    for i in range(int(a)):\n",
    "        piles[int(c)-1].append(tmp.pop())\n",
    "    return piles\n",
    "\n",
    "line = 'move 2 from 9 to 2'\n",
    "piles = get_piles(lines)\n",
    "print(piles)\n",
    "move2(piles, line)\n",
    "print(piles)"
   ]
  },
  {
   "cell_type": "code",
   "execution_count": 24,
   "metadata": {},
   "outputs": [
    {
     "name": "stdout",
     "output_type": "stream",
     "text": [
      "QDPLVDDCZ 9\n",
      "FQSCGGZPN 9\n",
      "MLRDLNPDW 9\n",
      "R GHFPVMT 9\n",
      "L WBZ FSV 9\n",
      "W CQS C M 9\n",
      "C NG  W P 9\n",
      "V B     C 9\n",
      "[['T'], ['R', 'H', 'F', 'M', 'D', 'N', 'P', 'B', 'F', 'D', 'C', 'F', 'N', 'W', 'C', 'V', 'C'], ['V', 'Q', 'G'], ['C', 'L'], ['Q'], ['D', 'P', 'S', 'W', 'C', 'P', 'B', 'N', 'Z', 'Q', 'Z', 'S'], ['V', 'L', 'C', 'L'], ['S', 'D', 'V', 'G', 'M', 'G', 'D', 'P'], ['P', 'G', 'W', 'Z', 'M', 'L', 'R', 'W']]\n"
     ]
    }
   ],
   "source": [
    "piles = get_piles(lines)\n",
    "for line in lines[10:]:\n",
    "    move2(piles, line)\n",
    "print(piles)"
   ]
  },
  {
   "cell_type": "code",
   "execution_count": 25,
   "metadata": {},
   "outputs": [
    {
     "name": "stdout",
     "output_type": "stream",
     "text": [
      "TCGLQSLPW\n"
     ]
    }
   ],
   "source": [
    "#piles = get_piles(lines)\n",
    "res = \"\"\n",
    "for pile in piles:\n",
    "    res += pile[-1]\n",
    "print(res)"
   ]
  },
  {
   "cell_type": "code",
   "execution_count": null,
   "metadata": {},
   "outputs": [],
   "source": []
  },
  {
   "cell_type": "code",
   "execution_count": 12,
   "metadata": {},
   "outputs": [
    {
     "name": "stdout",
     "output_type": "stream",
     "text": [
      "[[], []]\n",
      "[['Q', 'D'], ['Q', 'D']]\n"
     ]
    }
   ],
   "source": [
    "piles = 2*[[]]\n",
    "print(piles)\n",
    "s = 'QD'\n",
    "for k in range(len(s)):\n",
    "    piles[k].append(s[k])\n",
    "print(piles)"
   ]
  },
  {
   "cell_type": "code",
   "execution_count": 14,
   "metadata": {},
   "outputs": [
    {
     "name": "stdout",
     "output_type": "stream",
     "text": [
      "[[], []]\n",
      "[['Q'], ['D']]\n"
     ]
    }
   ],
   "source": [
    "piles = [[] for i in range(2)]\n",
    "print(piles)\n",
    "s = 'QD'\n",
    "for k in range(len(s)):\n",
    "    piles[k].append(s[k])\n",
    "print(piles)"
   ]
  },
  {
   "cell_type": "code",
   "execution_count": null,
   "metadata": {},
   "outputs": [],
   "source": []
  }
 ],
 "metadata": {
  "kernelspec": {
   "display_name": "py310",
   "language": "python",
   "name": "python3"
  },
  "language_info": {
   "codemirror_mode": {
    "name": "ipython",
    "version": 3
   },
   "file_extension": ".py",
   "mimetype": "text/x-python",
   "name": "python",
   "nbconvert_exporter": "python",
   "pygments_lexer": "ipython3",
   "version": "3.10.4"
  },
  "orig_nbformat": 4,
  "vscode": {
   "interpreter": {
    "hash": "d324f871be833c9a8cf29764ec477236e5bf41c23d5b66dc997ba672b6b18820"
   }
  }
 },
 "nbformat": 4,
 "nbformat_minor": 2
}
