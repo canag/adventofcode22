{
 "cells": [
  {
   "cell_type": "code",
   "execution_count": 1,
   "metadata": {},
   "outputs": [
    {
     "name": "stdout",
     "output_type": "stream",
     "text": [
      "2\n",
      "(1, 4, 2, 3, 14, 2, 7)\n"
     ]
    }
   ],
   "source": [
    "import pandas as pd\n",
    "import numpy as np\n",
    "import re\n",
    "\n",
    "f = open(\"data/data19.txt\", \"r\")\n",
    "lines = [line[:-1] for line in f.readlines()]\n",
    "\n",
    "lines = [\n",
    "    \"Blueprint 1: Each ore robot costs 4 ore. Each clay robot costs 2 ore. Each obsidian robot costs 3 ore and 14 clay. Each geode robot costs 2 ore and 7 obsidian.\",\n",
    "    \"Blueprint 2: Each ore robot costs 2 ore. Each clay robot costs 3 ore. Each obsidian robot costs 3 ore and 8 clay. Each geode robot costs 3 ore and 12 obsidian.\"\n",
    "]\n",
    "\n",
    "def get_costs(line):\n",
    "    d = {}\n",
    "    k, c_ore_ore, c_clay_ore, c_obs_ore, c_obs_clay, c_geo_ore, c_geo_obs = tuple([int(z) for z in re.findall(r'\\d+', line)])\n",
    "    return k, c_ore_ore, c_clay_ore, c_obs_ore, c_obs_clay, c_geo_ore, c_geo_obs\n",
    "\n",
    "print(len(lines))\n",
    "print(get_costs(lines[0]))"
   ]
  },
  {
   "cell_type": "code",
   "execution_count": 2,
   "metadata": {},
   "outputs": [
    {
     "name": "stdout",
     "output_type": "stream",
     "text": [
      "1 4 2 3 14 2 7\n",
      "0\n"
     ]
    }
   ],
   "source": [
    "k, c_ore_ore, c_clay_ore, c_obs_ore, c_obs_clay, c_geo_ore, c_geo_obs = get_costs(lines[0])\n",
    "print(k, c_ore_ore, c_clay_ore, c_obs_ore, c_obs_clay, c_geo_ore, c_geo_obs)\n",
    "\n",
    "def get_maxperf(t, ore, clay, obs, geo, n_ore, n_clay, n_obs, n_geo):\n",
    "\n",
    "    if t==0:\n",
    "        return geo#, []\n",
    "    \n",
    "    res = []\n",
    "    #strat = []\n",
    "    ore2 = ore + n_ore\n",
    "    clay2 = clay + n_clay\n",
    "    obs2 = obs + n_obs\n",
    "    geo2 = geo + n_geo    \n",
    "\n",
    "    #r, s0 = get_maxperf(t-1, ore2, clay2, obs2, geo2, n_ore, n_clay, n_obs, n_geo)\n",
    "    res.append(get_maxperf(t-1, ore2, clay2, obs2, geo2, n_ore, n_clay, n_obs, n_geo))\n",
    "    #strat.append([\"wait\"] + s0)\n",
    "    if ore >= c_ore_ore:\n",
    "        #r, s1 = get_maxperf(t-1, ore2 - c_ore_ore, clay2, obs2, geo2, n_ore + 1, n_clay, n_obs, n_geo)\n",
    "        res.append(get_maxperf(t-1, ore2 - c_ore_ore, clay2, obs2, geo2, n_ore + 1, n_clay, n_obs, n_geo))\n",
    "        #strat.append([\"r_ore\"] + s1)\n",
    "    if ore >= c_clay_ore:\n",
    "        #r, s2 = get_maxperf(t-1, ore2 - c_clay_ore, clay2, obs2, geo2, n_ore, n_clay + 1, n_obs, n_geo)\n",
    "        res.append(get_maxperf(t-1, ore2 - c_clay_ore, clay2, obs2, geo2, n_ore, n_clay + 1, n_obs, n_geo))\n",
    "        #strat.append([\"r_clay\"] + s2)\n",
    "    if (ore >= c_obs_ore) and (clay >= c_obs_clay):\n",
    "        #r, s3 = get_maxperf(t-1, ore2 - c_obs_ore, clay2 - c_obs_clay, obs2, geo2, n_ore, n_clay, n_obs + 1, n_geo)\n",
    "        res.append(get_maxperf(t-1, ore2 - c_obs_ore, clay2 - c_obs_clay, obs2, geo2, n_ore, n_clay, n_obs + 1, n_geo))\n",
    "        #strat.append([\"r_obs\"] + s3)\n",
    "    if (ore >= c_geo_ore) and (obs >= c_geo_obs):\n",
    "        #r, s4 = get_maxperf(t-1, ore2 - c_geo_ore, clay2 , obs2 - c_geo_obs, geo2, n_ore, n_clay, n_obs, n_geo + 1)\n",
    "        res.append(get_maxperf(t-1, ore2 - c_geo_ore, clay2 , obs2 - c_geo_obs, geo2, n_ore, n_clay, n_obs, n_geo + 1))\n",
    "        #strat.append([\"r_geo\"] + s4)\n",
    "    \n",
    "    m = max(res)\n",
    "    #imax = res.index(max(res))\n",
    "\n",
    "    return m#, strat[imax]\n",
    "\n",
    "print(get_maxperf(10, 0, 0, 0, 0, 1, 0, 0, 0))\n"
   ]
  },
  {
   "cell_type": "code",
   "execution_count": 3,
   "metadata": {},
   "outputs": [
    {
     "data": {
      "text/plain": [
       "9"
      ]
     },
     "execution_count": 3,
     "metadata": {},
     "output_type": "execute_result"
    }
   ],
   "source": [
    "get_maxperf(4, 4, 25, 7, 2, 1, 4, 2, 1)\n"
   ]
  },
  {
   "cell_type": "code",
   "execution_count": 4,
   "metadata": {},
   "outputs": [
    {
     "data": {
      "text/plain": [
       "9"
      ]
     },
     "execution_count": 4,
     "metadata": {},
     "output_type": "execute_result"
    }
   ],
   "source": [
    "get_maxperf(14, 4, 15, 0, 0, 1, 3, 0, 0)\n"
   ]
  },
  {
   "cell_type": "code",
   "execution_count": 16,
   "metadata": {},
   "outputs": [
    {
     "name": "stdout",
     "output_type": "stream",
     "text": [
      "1 1 1\n",
      "2 1 1\n",
      "3 2 2\n",
      "4 3 3\n",
      "5 7 7\n",
      "6 12 12\n",
      "7 29 29\n",
      "8 57 56\n",
      "9 140 138\n",
      "10 305 288\n",
      "11 743 693\n",
      "12 1656 1447\n",
      "13 3601 3027\n",
      "14 7148 5789\n",
      "15 12897 10531\n",
      "16 24503 19796\n",
      "17 44750 36063\n",
      "18 78780 65048\n",
      "19 140126 116153\n",
      "20 2709 2599\n",
      "21 5210 4987\n",
      "22 392 392\n",
      "23 547 535\n",
      "24 773 748\n"
     ]
    },
    {
     "data": {
      "text/plain": [
       "9"
      ]
     },
     "execution_count": 16,
     "metadata": {},
     "output_type": "execute_result"
    }
   ],
   "source": [
    "lines = [\n",
    "    \"Blueprint 1: Each ore robot costs 4 ore. Each clay robot costs 2 ore. Each obsidian robot costs 3 ore and 14 clay. Each geode robot costs 2 ore and 7 obsidian.\",\n",
    "    \"Blueprint 2: Each ore robot costs 2 ore. Each clay robot costs 3 ore. Each obsidian robot costs 3 ore and 8 clay. Each geode robot costs 3 ore and 12 obsidian.\"\n",
    "]\n",
    "\n",
    "\n",
    "def update(x):\n",
    "    y = x.copy()\n",
    "    y[:4] += y[4:]\n",
    "    return y\n",
    "\n",
    "L_states = [np.array([0, 0, 0, 0, 1, 0, 0, 0], dtype='int8')]\n",
    "\n",
    "tmax = 24\n",
    "def get_options(line, tmax, verbose=True):\n",
    "    _, c_ore_ore, c_clay_ore, c_obs_ore, c_obs_clay, c_geo_ore, c_geo_obs = get_costs(line)\n",
    "    r_ore = np.array([- c_ore_ore, 0, 0, 0, 1, 0, 0, 0], dtype='int8')\n",
    "    r_clay = np.array([- c_clay_ore, 0, 0, 0, 0, 1, 0, 0], dtype='int8')\n",
    "    r_obs = np.array([- c_obs_ore, - c_obs_clay, 0, 0, 0, 0, 1, 0], dtype='int8')\n",
    "    r_geo = np.array([-c_geo_ore, 0, - c_geo_obs, 0, 0, 0, 0, 1], dtype='int8')\n",
    "    L_states = [np.array([0, 0, 0, 0, 1, 0, 0, 0], dtype='int8')]\n",
    "    maxore = max([c_ore_ore, c_clay_ore, c_obs_ore, c_geo_ore])\n",
    "\n",
    "    for t in range(1, tmax+1):\n",
    "        list_options = []\n",
    "        for x in L_states:\n",
    "            y = update(x)\n",
    "            n_choices = 0\n",
    "            if (x[0] >= c_geo_ore) and (x[2] >= c_geo_obs):\n",
    "                list_options.append(y+r_geo)\n",
    "                n_choices += 2\n",
    "            if (n_choices<2) and (x[0] >= c_obs_ore) and (x[1] >= c_obs_clay):\n",
    "                list_options.append(y+r_obs)\n",
    "                n_choices += 1\n",
    "            if (n_choices<2) and (x[0] >= c_clay_ore):\n",
    "                list_options.append(y+r_clay)\n",
    "                n_choices += 1\n",
    "            if (n_choices<2) and (x[0] >= c_ore_ore):\n",
    "                list_options.append(y+r_ore)\n",
    "                n_choices += 0\n",
    "            if n_choices<2:\n",
    "                list_options.append(y)\n",
    "        m = max([l[3] for l in list_options])\n",
    "        L_1 = [l for l in list_options if l[3]>m-2]\n",
    "        L_states = [l for l in L_1 if l[0]<2*maxore]\n",
    "        if verbose:\n",
    "            print(t, len(L_1), len(L_states))\n",
    "    return L_states\n",
    "\n",
    "l1 = get_options(lines[0], tmax)\n",
    "#l2 = get_options(lines[1], tmax)\n",
    "max([s[3] for s in l1])#, max([s[3] for s in l2])"
   ]
  },
  {
   "cell_type": "code",
   "execution_count": 17,
   "metadata": {},
   "outputs": [
    {
     "name": "stdout",
     "output_type": "stream",
     "text": [
      "1 3\n",
      "2 13\n",
      "3 0\n",
      "4 0\n",
      "5 0\n",
      "6 8\n",
      "7 0\n",
      "8 6\n",
      "9 0\n",
      "10 2\n",
      "11 0\n",
      "12 0\n",
      "13 1\n",
      "14 12\n",
      "15 0\n",
      "16 0\n",
      "17 0\n",
      "18 0\n",
      "19 0\n",
      "20 0\n",
      "21 6\n",
      "22 1\n",
      "23 0\n",
      "24 15\n",
      "25 1\n",
      "26 3\n",
      "27 7\n",
      "28 1\n",
      "29 1\n",
      "30 3\n",
      "1273\n"
     ]
    }
   ],
   "source": [
    "f = open(\"data/data19.txt\", \"r\")\n",
    "lines = [line[:-1] for line in f.readlines()]\n",
    "tmax = 24\n",
    "\n",
    "best_k = {}\n",
    "for i, line in enumerate(lines):\n",
    "    options = get_options(line, 24, False)\n",
    "    best_k[i+1] = max([s[3] for s in options])\n",
    "    print(i+1, best_k[i+1])\n",
    "s = 0\n",
    "for i in best_k.keys():\n",
    "    s += i*best_k[i]\n",
    "print(s) # 1273 is too low"
   ]
  },
  {
   "cell_type": "code",
   "execution_count": null,
   "metadata": {},
   "outputs": [],
   "source": []
  }
 ],
 "metadata": {
  "kernelspec": {
   "display_name": "py310",
   "language": "python",
   "name": "python3"
  },
  "language_info": {
   "codemirror_mode": {
    "name": "ipython",
    "version": 3
   },
   "file_extension": ".py",
   "mimetype": "text/x-python",
   "name": "python",
   "nbconvert_exporter": "python",
   "pygments_lexer": "ipython3",
   "version": "3.10.4 | packaged by conda-forge | (main, Mar 30 2022, 08:38:02) [MSC v.1916 64 bit (AMD64)]"
  },
  "orig_nbformat": 4,
  "vscode": {
   "interpreter": {
    "hash": "d324f871be833c9a8cf29764ec477236e5bf41c23d5b66dc997ba672b6b18820"
   }
  }
 },
 "nbformat": 4,
 "nbformat_minor": 2
}
