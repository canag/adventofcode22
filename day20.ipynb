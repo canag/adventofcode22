{
 "cells": [
  {
   "cell_type": "code",
   "execution_count": 61,
   "metadata": {},
   "outputs": [
    {
     "data": {
      "text/plain": [
       "4224"
      ]
     },
     "execution_count": 61,
     "metadata": {},
     "output_type": "execute_result"
    }
   ],
   "source": [
    "f = open(\"data/data20.txt\", \"r\")\n",
    "lines = [line[:-1] for line in f.readlines()]\n",
    "L = [int(s) for s in lines]\n",
    "N = len(L)\n",
    "Lind = list(range(N))\n",
    "\n",
    "if N<20:\n",
    "    print(L)\n",
    "\n",
    "pivots = L.copy()\n",
    "for i in range(N):\n",
    "    ind = Lind.index(i)\n",
    "    p = pivots[i]\n",
    "    new_ind = (ind+p)%(N-1)\n",
    "    if ind<new_ind:\n",
    "        L = L[:ind] + L[ind+1:new_ind+1] + [p] + L[new_ind+1:]\n",
    "        Lind = Lind[:ind] + Lind[ind+1:new_ind+1] + [i] + Lind[new_ind+1:]\n",
    "    if new_ind<ind:\n",
    "        L = L[:new_ind] + [p] + L[new_ind:ind] + L[ind+1:]\n",
    "        Lind = Lind[:new_ind] + [i] + Lind[new_ind:ind] + Lind[ind+1:]\n",
    "    if N<20:\n",
    "        print(p, ind, new_ind)\n",
    "        print(L)\n",
    "\n",
    "ind = L.index(0)\n",
    "sum([L[(ind+1000)%N], L[(ind+2000)%N], L[(ind+3000)%N]])"
   ]
  },
  {
   "cell_type": "code",
   "execution_count": 75,
   "metadata": {},
   "outputs": [
    {
     "data": {
      "text/plain": [
       "861907680486"
      ]
     },
     "execution_count": 75,
     "metadata": {},
     "output_type": "execute_result"
    }
   ],
   "source": [
    "f = open(\"data/data20.txt\", \"r\")\n",
    "m = 811589153\n",
    "\n",
    "lines = [line[:-1] for line in f.readlines()]\n",
    "L = [int(s)*m for s in lines]\n",
    "N = len(L)\n",
    "pivots = L.copy()\n",
    "Lind = list(range(N)) \n",
    "# Lind[i]: at which index in L is element that used to be at index i in L at the start\n",
    "\n",
    "def mix(L, pivots, Lind):\n",
    "    N = len(L)\n",
    "    for i in range(N):\n",
    "        ind = Lind.index(i)\n",
    "        p = pivots[i]\n",
    "        new_ind = (ind+p)%(N-1)\n",
    "        if ind<new_ind:\n",
    "            L = L[:ind] + L[ind+1:new_ind+1] + [p] + L[new_ind+1:]\n",
    "            Lind = Lind[:ind] + Lind[ind+1:new_ind+1] + [i] + Lind[new_ind+1:]\n",
    "        if new_ind<ind:\n",
    "            L = L[:new_ind] + [p] + L[new_ind:ind] + L[ind+1:]\n",
    "            Lind = Lind[:new_ind] + [i] + Lind[new_ind:ind] + Lind[ind+1:]\n",
    "    return L, Lind\n",
    "\n",
    "if N<20:\n",
    "    print(L, Lind)\n",
    "for k in range(10):\n",
    "    L, Lind = mix(L, pivots, Lind)\n",
    "    if N<20:\n",
    "        print(L, Lind)\n",
    "ind = L.index(0)\n",
    "sum([L[(ind+1000)%N], L[(ind+2000)%N], L[(ind+3000)%N]])"
   ]
  },
  {
   "cell_type": "code",
   "execution_count": null,
   "metadata": {},
   "outputs": [],
   "source": []
  }
 ],
 "metadata": {
  "kernelspec": {
   "display_name": "py310",
   "language": "python",
   "name": "python3"
  },
  "language_info": {
   "codemirror_mode": {
    "name": "ipython",
    "version": 3
   },
   "file_extension": ".py",
   "mimetype": "text/x-python",
   "name": "python",
   "nbconvert_exporter": "python",
   "pygments_lexer": "ipython3",
   "version": "3.10.4"
  },
  "orig_nbformat": 4,
  "vscode": {
   "interpreter": {
    "hash": "d324f871be833c9a8cf29764ec477236e5bf41c23d5b66dc997ba672b6b18820"
   }
  }
 },
 "nbformat": 4,
 "nbformat_minor": 2
}
