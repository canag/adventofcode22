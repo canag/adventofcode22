{
 "cells": [
  {
   "cell_type": "code",
   "execution_count": 3,
   "metadata": {},
   "outputs": [
    {
     "name": "stdout",
     "output_type": "stream",
     "text": [
      ">>.<^<\n",
      ".<..<<\n",
      ">v.><>\n",
      "<^v^^>\n"
     ]
    }
   ],
   "source": [
    "class Blizzard:\n",
    "    def __init__(self, dir, pos):\n",
    "        self.dir = dir\n",
    "        self.pos = pos\n",
    "    \n",
    "    def move(self, N_rows, N_cols):\n",
    "        new_i = self.pos[0] + self.dir[0]\n",
    "        new_j = self.pos[1] + self.dir[1]\n",
    "        if new_i==-1:\n",
    "            new_i = N_rows-1\n",
    "        elif new_i==N_rows:\n",
    "            new_i = 0\n",
    "        if new_j==-1:\n",
    "            new_j = N_cols-1\n",
    "        elif new_j==N_cols:\n",
    "            new_j = 0\n",
    "        self.pos = new_i, new_j\n",
    "\n",
    "def read_data(file):\n",
    "    f = open(file, \"r\")\n",
    "    lines = [line[:-1] for line in f.readlines()]\n",
    "    N_rows = len(lines)-2\n",
    "    N_cols = len(lines[0])-2\n",
    "    A = [[s for s in line[1:-1]] for line in lines[1:-1]]\n",
    "\n",
    "    list_blizz = []\n",
    "\n",
    "    for i, line in enumerate(A):\n",
    "        for j, s in enumerate(line):\n",
    "            if s=='>':\n",
    "                list_blizz.append(Blizzard((0, 1), (i, j)))\n",
    "            elif s=='<':\n",
    "                list_blizz.append(Blizzard((0, -1), (i, j)))\n",
    "            elif s=='^':\n",
    "                list_blizz.append(Blizzard((-1, 0), (i, j)))\n",
    "            elif s=='v':\n",
    "                list_blizz.append(Blizzard((1, 0), (i, j)))\n",
    "    return A, list_blizz\n",
    "\n",
    "file = \"data/data24test.txt\"\n",
    "A, list_blizz = read_data(file)\n",
    "for line in A:\n",
    "    print(\"\".join(line))\n"
   ]
  },
  {
   "cell_type": "code",
   "execution_count": 9,
   "metadata": {},
   "outputs": [
    {
     "name": "stdout",
     "output_type": "stream",
     "text": [
      ".>3.<.\n",
      "<..<<.\n",
      ">2.22.\n",
      ">v..^<\n"
     ]
    }
   ],
   "source": [
    "def update(A, list_blizz):\n",
    "    N_rows = len(A)\n",
    "    N_cols = len(A[0])\n",
    "    A = [[\".\"]*N_cols for i in range(N_rows)]\n",
    "\n",
    "    for b in list_blizz:\n",
    "        b.move(N_rows, N_cols)\n",
    "        if b.dir == (1, 0):\n",
    "            s = \"v\"\n",
    "        elif b.dir == (-1, 0):\n",
    "            s = \"^\"\n",
    "        elif b.dir == (0, 1):\n",
    "            s = \">\"\n",
    "        elif b.dir == (0, -1):\n",
    "            s = \"<\"\n",
    "        \n",
    "        if A[b.pos[0]][b.pos[1]] == '.':\n",
    "            A[b.pos[0]][b.pos[1]] = s\n",
    "        elif A[b.pos[0]][b.pos[1]].isnumeric():\n",
    "            A[b.pos[0]][b.pos[1]] = str(int(A[b.pos[0]][b.pos[1]])+1)\n",
    "        else:\n",
    "            A[b.pos[0]][b.pos[1]] = '2'\n",
    "    \n",
    "    return A, list_blizz\n",
    "\n",
    "file = \"data/data24test.txt\"\n",
    "A, list_blizz = read_data(file)\n",
    "A, list_blizz = update(A, list_blizz)\n",
    "for line in A:\n",
    "    print(\"\".join(line))"
   ]
  },
  {
   "cell_type": "code",
   "execution_count": 82,
   "metadata": {},
   "outputs": [
    {
     "name": "stdout",
     "output_type": "stream",
     "text": [
      "corner found at minute 342 thus exit in 343 steps\n"
     ]
    }
   ],
   "source": [
    "file = \"data/data24.txt\"\n",
    "A, list_blizz = read_data(file)\n",
    "#A, list_blizz = update(A, list_blizz)\n",
    "\n",
    "N_rows = len(A)\n",
    "N_cols = len(A[0])\n",
    "\n",
    "#found_positions = {1: [(0,0)]}\n",
    "found_positions = {0: [(-1,0)]}\n",
    "for t in range(1, 501):\n",
    "    A, list_blizz = update(A, list_blizz)\n",
    "    list_next = []\n",
    "    for pos in found_positions[t-1]:\n",
    "        if (pos[0]>=0) and (pos[1]+1<N_cols):\n",
    "            if A[pos[0]][pos[1]+1] == '.':\n",
    "                list_next.append((pos[0], pos[1]+1))\n",
    "        if (pos[0]>=0) and (pos[1]-1>=0):\n",
    "            if A[pos[0]][pos[1]-1] == '.':\n",
    "                list_next.append((pos[0], pos[1]-1))\n",
    "        if pos[0]>=0:\n",
    "            if A[pos[0]][pos[1]] == '.':\n",
    "                list_next.append((pos[0], pos[1]))\n",
    "        if pos[0]+1<N_rows:\n",
    "            if A[pos[0]+1][pos[1]] == '.':\n",
    "                list_next.append((pos[0]+1, pos[1]))\n",
    "        if pos[0]-1>=0:\n",
    "            if A[pos[0]-1][pos[1]] == '.':\n",
    "                list_next.append((pos[0]-1, pos[1]))\n",
    "        if pos==(-1,0):\n",
    "            list_next.append(pos)\n",
    "    if \"test\" in file:\n",
    "        print(len(list_next), \"at minute\", t)\n",
    "\n",
    "    if (N_rows-1, N_cols-1) in list_next:\n",
    "        print(\"corner found at minute\", t, \"thus exit in\", t+1, \"steps\")\n",
    "        break\n",
    "    found_positions[t] = list(set(list_next))\n"
   ]
  },
  {
   "cell_type": "code",
   "execution_count": 83,
   "metadata": {},
   "outputs": [
    {
     "name": "stdout",
     "output_type": "stream",
     "text": [
      "corner found at minute 662 back to start in 663 steps\n"
     ]
    }
   ],
   "source": [
    "time = t #17\n",
    "# move to exit\n",
    "time += 1 #18\n",
    "A, list_blizz = update(A, list_blizz)\n",
    "\n",
    "found_positions[time] = [(N_rows, N_cols-1)]\n",
    "\n",
    "for t in range(time+1, time+501): # t starts at 19\n",
    "    \n",
    "    A, list_blizz = update(A, list_blizz)\n",
    "    list_next = []\n",
    "    for pos in found_positions[t-1]:\n",
    "        if (pos[0]<N_rows) and (pos[1]+1<N_cols):\n",
    "            if A[pos[0]][pos[1]+1] == '.':\n",
    "                list_next.append((pos[0], pos[1]+1))\n",
    "        if (pos[0]<N_rows) and (pos[1]-1>=0):\n",
    "            if A[pos[0]][pos[1]-1] == '.':\n",
    "                list_next.append((pos[0], pos[1]-1))\n",
    "        if pos[0]<N_rows:\n",
    "            if A[pos[0]][pos[1]] == '.':\n",
    "                list_next.append((pos[0], pos[1]))\n",
    "        if pos[0]+1<N_rows:\n",
    "            if A[pos[0]+1][pos[1]] == '.':\n",
    "                list_next.append((pos[0]+1, pos[1]))\n",
    "        if pos[0]-1>=0:\n",
    "            if A[pos[0]-1][pos[1]] == '.':\n",
    "                list_next.append((pos[0]-1, pos[1]))\n",
    "        if pos==(N_rows, N_cols-1):\n",
    "            list_next.append((pos[0], pos[1]))\n",
    "            \n",
    "    if \"test\" in file:\n",
    "        print(len(list_next), \"at minute\", t+1)\n",
    "\n",
    "    if (0, 0) in list_next:\n",
    "        print(\"corner found at minute\", t, \"back to start in\", t+1, \"steps\")\n",
    "        break\n",
    "    found_positions[t] = list(set(list_next))"
   ]
  },
  {
   "cell_type": "code",
   "execution_count": 84,
   "metadata": {},
   "outputs": [
    {
     "name": "stdout",
     "output_type": "stream",
     "text": [
      "corner found at minute 959 thus exit in 960 steps\n"
     ]
    }
   ],
   "source": [
    "time = t #40\n",
    "# move to start\n",
    "time += 1 #41\n",
    "A, list_blizz = update(A, list_blizz)\n",
    "\n",
    "found_positions[time] = [(-1, 0)]\n",
    "\n",
    "for t in range(time+1, time+501):\n",
    "    A, list_blizz = update(A, list_blizz)\n",
    "    list_next = []\n",
    "    for pos in found_positions[t-1]:\n",
    "        if (pos[0]>=0) and (pos[1]+1<N_cols):\n",
    "            if A[pos[0]][pos[1]+1] == '.':\n",
    "                list_next.append((pos[0], pos[1]+1))\n",
    "        if (pos[0]>=0) and (pos[1]-1>=0):\n",
    "            if A[pos[0]][pos[1]-1] == '.':\n",
    "                list_next.append((pos[0], pos[1]-1))\n",
    "        if pos[0]>=0:\n",
    "            if A[pos[0]][pos[1]] == '.':\n",
    "                list_next.append((pos[0], pos[1]))\n",
    "        if pos[0]+1<N_rows:\n",
    "            if A[pos[0]+1][pos[1]] == '.':\n",
    "                list_next.append((pos[0]+1, pos[1]))\n",
    "        if pos[0]-1>=0:\n",
    "            if A[pos[0]-1][pos[1]] == '.':\n",
    "                list_next.append((pos[0]-1, pos[1]))\n",
    "        if pos==(-1,0):\n",
    "            list_next.append(pos)\n",
    "    if \"test\" in file:\n",
    "        print(len(list_next), \"at minute\", t)\n",
    "\n",
    "    if (N_rows-1, N_cols-1) in list_next:\n",
    "        print(\"corner found at minute\", t, \"thus exit in\", t+1, \"steps\")\n",
    "        break\n",
    "    found_positions[t] = list(set(list_next))"
   ]
  },
  {
   "cell_type": "code",
   "execution_count": 66,
   "metadata": {},
   "outputs": [
    {
     "data": {
      "text/plain": [
       "[]"
      ]
     },
     "execution_count": 66,
     "metadata": {},
     "output_type": "execute_result"
    }
   ],
   "source": [
    "found_positions[19]"
   ]
  },
  {
   "cell_type": "code",
   "execution_count": 5,
   "metadata": {},
   "outputs": [],
   "source": [
    "# recursive approach, bound to fail!\n",
    "# def minimal_path(pos, A, list_blizz):\n",
    "#     N_rows = len(A)\n",
    "#     N_cols = len(A[0])\n",
    "#     if pos == (N_rows-1, N_cols-1):\n",
    "#         return 0\n",
    "\n",
    "#     A, list_blizz = update(A, list_blizz)\n",
    "\n",
    "#     # list of possible paths\n",
    "#     list_scores =[]\n",
    "#     budget = 2\n",
    "#     if pos[1]+1<N_cols:\n",
    "#         if A[pos[0]][pos[1]+1] == '.':\n",
    "#             list_scores.append(minimal_path((pos[0], pos[1]+1), A, list_blizz)+1)\n",
    "#             budget -= 1\n",
    "#     if pos[1]-1>=0:\n",
    "#         if A[pos[0]][pos[1]-1] == '.':\n",
    "#             list_scores.append(minimal_path((pos[0], pos[1]-1), A, list_blizz)+1)\n",
    "#             budget -= 1\n",
    "#     if (budget>0) and (A[pos[0]][pos[1]] == '.'):\n",
    "#         list_scores.append(minimal_path((pos[0], pos[1]), A, list_blizz)+1)\n",
    "#         budget -= 1\n",
    "#     if (budget>0) and (pos[0]+1<N_rows):\n",
    "#         if A[pos[0]+1][pos[1]] == '.':\n",
    "#             list_scores.append(minimal_path((pos[0]+1, pos[1]), A, list_blizz)+1)\n",
    "#     if (budget>0) and (pos[0]-1>=0):\n",
    "#         if A[pos[0]-1][pos[1]] == '.':\n",
    "#             list_scores.append(minimal_path((pos[0]-1, pos[1]), A, list_blizz)+1)\n",
    "    \n",
    "#     if len(list_scores)==0:\n",
    "#         return 1000\n",
    "    \n",
    "#     return min(list_scores)\n",
    "\n",
    "# pos = (0, 0)\n",
    "# minimal_path(pos, A, list_blizz)"
   ]
  },
  {
   "cell_type": "code",
   "execution_count": null,
   "metadata": {},
   "outputs": [],
   "source": []
  }
 ],
 "metadata": {
  "kernelspec": {
   "display_name": "py310",
   "language": "python",
   "name": "python3"
  },
  "language_info": {
   "codemirror_mode": {
    "name": "ipython",
    "version": 3
   },
   "file_extension": ".py",
   "mimetype": "text/x-python",
   "name": "python",
   "nbconvert_exporter": "python",
   "pygments_lexer": "ipython3",
   "version": "3.10.4"
  },
  "orig_nbformat": 4,
  "vscode": {
   "interpreter": {
    "hash": "d324f871be833c9a8cf29764ec477236e5bf41c23d5b66dc997ba672b6b18820"
   }
  }
 },
 "nbformat": 4,
 "nbformat_minor": 2
}
