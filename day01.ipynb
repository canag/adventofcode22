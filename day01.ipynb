{
 "cells": [
  {
   "cell_type": "code",
   "execution_count": 1,
   "metadata": {},
   "outputs": [
    {
     "name": "stdout",
     "output_type": "stream",
     "text": [
      "71924\n",
      "210406\n"
     ]
    }
   ],
   "source": [
    "# day 1\n",
    "f = open(\"data/data01.txt\", \"r\")\n",
    "lines = f.readlines()\n",
    "lines = [l[:-1] for l in lines]\n",
    "results = []\n",
    "a = 0\n",
    "for l in lines:\n",
    "    if len(l)==0:\n",
    "        results.append(a)\n",
    "        a = 0\n",
    "    else:\n",
    "        a += int(l)\n",
    "\n",
    "print(max(results))\n",
    "print(sum(sorted(results)[-3:]))"
   ]
  },
  {
   "cell_type": "code",
   "execution_count": null,
   "metadata": {},
   "outputs": [],
   "source": []
  }
 ],
 "metadata": {
  "kernelspec": {
   "display_name": "py310",
   "language": "python",
   "name": "python3"
  },
  "language_info": {
   "codemirror_mode": {
    "name": "ipython",
    "version": 3
   },
   "file_extension": ".py",
   "mimetype": "text/x-python",
   "name": "python",
   "nbconvert_exporter": "python",
   "pygments_lexer": "ipython3",
   "version": "3.10.4"
  },
  "orig_nbformat": 4,
  "vscode": {
   "interpreter": {
    "hash": "d324f871be833c9a8cf29764ec477236e5bf41c23d5b66dc997ba672b6b18820"
   }
  }
 },
 "nbformat": 4,
 "nbformat_minor": 2
}
