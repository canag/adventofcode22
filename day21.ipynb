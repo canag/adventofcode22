{
 "cells": [
  {
   "cell_type": "code",
   "execution_count": 6,
   "metadata": {},
   "outputs": [
    {
     "name": "stdout",
     "output_type": "stream",
     "text": [
      "root: pppw + sjmn\n",
      "dbpl: 5\n",
      "cczh: sllz + lgvd\n",
      "zczc: 2\n",
      "ptdq: humn - dvpt\n",
      "dvpt: 3\n",
      "lfqf: 4\n",
      "humn: 5\n",
      "ljgn: 2\n",
      "sjmn: drzm * dbpl\n",
      "sllz: 4\n",
      "pppw: cczh / lfqf\n",
      "lgvd: ljgn * ptdq\n",
      "drzm: hmdt - zczc\n",
      "hmdt: 32\n"
     ]
    }
   ],
   "source": [
    "f = open(\"data/data21test.txt\", \"r\")\n",
    "lines = [line[:-1] for line in f.readlines()]\n",
    "N = len(lines)\n",
    "for line in lines:\n",
    "    print(line)"
   ]
  },
  {
   "cell_type": "code",
   "execution_count": 16,
   "metadata": {},
   "outputs": [
    {
     "data": {
      "text/plain": [
       "353837700405464"
      ]
     },
     "execution_count": 16,
     "metadata": {},
     "output_type": "execute_result"
    }
   ],
   "source": [
    "# part 1\n",
    "# test: 152\n",
    "f = open(\"data/data21.txt\", \"r\")\n",
    "lines = [line[:-1] for line in f.readlines()]\n",
    "\n",
    "def compute(s):\n",
    "    line = [l for l in lines if l.startswith(s)][0][6:]\n",
    "    try:\n",
    "        i = int(line)\n",
    "        return i\n",
    "    except:\n",
    "        s1 = line[:4]\n",
    "        s2 = line[7:]\n",
    "        op = line[5]\n",
    "        if op=='+':\n",
    "            return compute(s1) + compute(s2)\n",
    "        elif op=='-':\n",
    "            return compute(s1) - compute(s2)\n",
    "        elif op=='*':\n",
    "            return compute(s1) * compute(s2)\n",
    "        elif op=='/':\n",
    "            return int(compute(s1) / compute(s2))\n",
    "\n",
    "compute(\"root\")\n"
   ]
  },
  {
   "cell_type": "code",
   "execution_count": 67,
   "metadata": {},
   "outputs": [
    {
     "name": "stdout",
     "output_type": "stream",
     "text": [
      "0.0\n"
     ]
    },
    {
     "ename": "TypeError",
     "evalue": "'int' object is not subscriptable",
     "output_type": "error",
     "traceback": [
      "\u001b[1;31m---------------------------------------------------------------------------\u001b[0m",
      "\u001b[1;31mTypeError\u001b[0m                                 Traceback (most recent call last)",
      "\u001b[1;32mc:\\Users\\A1945664\\Documents\\ACD\\small_projects\\adventofcode_2022\\day21.ipynb Cell 3\u001b[0m in \u001b[0;36m<cell line: 40>\u001b[1;34m()\u001b[0m\n\u001b[0;32m     <a href='vscode-notebook-cell:/c%3A/Users/A1945664/Documents/ACD/small_projects/adventofcode_2022/day21.ipynb#W2sZmlsZQ%3D%3D?line=37'>38</a>\u001b[0m v \u001b[39m=\u001b[39m compute2(\u001b[39m\"\u001b[39m\u001b[39mroot\u001b[39m\u001b[39m\"\u001b[39m)\n\u001b[0;32m     <a href='vscode-notebook-cell:/c%3A/Users/A1945664/Documents/ACD/small_projects/adventofcode_2022/day21.ipynb#W2sZmlsZQ%3D%3D?line=38'>39</a>\u001b[0m \u001b[39mprint\u001b[39m(v)\n\u001b[1;32m---> <a href='vscode-notebook-cell:/c%3A/Users/A1945664/Documents/ACD/small_projects/adventofcode_2022/day21.ipynb#W2sZmlsZQ%3D%3D?line=39'>40</a>\u001b[0m \u001b[39mprint\u001b[39m(\u001b[39mf\u001b[39m\u001b[39m\"\u001b[39m\u001b[39mmin \u001b[39m\u001b[39m{\u001b[39;00mnp\u001b[39m.\u001b[39mmin(np\u001b[39m.\u001b[39mabs(v))\u001b[39m}\u001b[39;00m\u001b[39m found at \u001b[39m\u001b[39m{\u001b[39;00mvect_N[np\u001b[39m.\u001b[39margmin(np\u001b[39m.\u001b[39mabs(v))]\u001b[39m}\u001b[39;00m\u001b[39m\"\u001b[39m)\n",
      "\u001b[1;31mTypeError\u001b[0m: 'int' object is not subscriptable"
     ]
    }
   ],
   "source": [
    "# part 2\n",
    "# test: 301\n",
    "import numpy as np\n",
    "\n",
    "f = open(\"data/data21.txt\", \"r\")\n",
    "lines = [line[:-1] for line in f.readlines()]\n",
    "\n",
    "step = 2000000\n",
    "\n",
    "def compute2(s):\n",
    "    line = [l for l in lines if l.startswith(s)][0][6:]\n",
    "    if s == \"humn\":\n",
    "        return vect_N\n",
    "    elif s == \"root\":\n",
    "        s1 = line[:4]\n",
    "        s2 = line[7:]\n",
    "        return compute2(s1) - compute2(s2)\n",
    "    else:\n",
    "        try:\n",
    "            i = int(line)\n",
    "            return i\n",
    "        except:\n",
    "            s1 = line[:4]\n",
    "            s2 = line[7:]\n",
    "            op = line[5]\n",
    "            if op=='+':\n",
    "                return compute2(s1) + compute2(s2)\n",
    "            elif op=='-':\n",
    "                return compute2(s1) - compute2(s2)\n",
    "            elif op=='*':\n",
    "                return compute2(s1) * compute2(s2)\n",
    "            elif op=='/':\n",
    "                return np.array(compute2(s1) / compute2(s2))\n",
    "\n",
    "#vect_N = np.logspace(1, 1e12, 1000000).astype('int64')\n",
    "vect_N = np.linspace(3678125400000, 3678125500000, 1000000).astype('int64')\n",
    "vect_N = 3678125408017\n",
    "v = compute2(\"root\")\n",
    "print(v)\n",
    "print(f\"min {np.min(np.abs(v))} found at {vect_N[np.argmin(np.abs(v))]}\")"
   ]
  },
  {
   "cell_type": "code",
   "execution_count": 53,
   "metadata": {},
   "outputs": [
    {
     "name": "stdout",
     "output_type": "stream",
     "text": [
      "from 40000000 to 41000000: 0 found\n",
      "from 41000000 to 42000000: 0 found\n",
      "from 42000000 to 43000000: 0 found\n",
      "from 43000000 to 44000000: 0 found\n",
      "from 44000000 to 45000000: 0 found\n",
      "from 45000000 to 46000000: 0 found\n",
      "from 46000000 to 47000000: 0 found\n",
      "from 47000000 to 48000000: 0 found\n",
      "from 48000000 to 49000000: 0 found\n",
      "from 49000000 to 50000000: 0 found\n",
      "from 50000000 to 51000000: 0 found\n",
      "from 51000000 to 52000000: 0 found\n",
      "from 52000000 to 53000000: 0 found\n",
      "from 53000000 to 54000000: 0 found\n",
      "from 54000000 to 55000000: 0 found\n",
      "from 55000000 to 56000000: 0 found\n",
      "from 56000000 to 57000000: 0 found\n",
      "from 57000000 to 58000000: 0 found\n",
      "from 58000000 to 59000000: 0 found\n",
      "from 59000000 to 60000000: 0 found\n",
      "from 60000000 to 61000000: 0 found\n",
      "from 61000000 to 62000000: 0 found\n",
      "from 62000000 to 63000000: 0 found\n",
      "from 63000000 to 64000000: 0 found\n",
      "from 64000000 to 65000000: 0 found\n",
      "from 65000000 to 66000000: 0 found\n",
      "from 66000000 to 67000000: 0 found\n",
      "from 67000000 to 68000000: 0 found\n",
      "from 68000000 to 69000000: 0 found\n",
      "from 69000000 to 70000000: 0 found\n",
      "from 70000000 to 71000000: 0 found\n",
      "from 71000000 to 72000000: 0 found\n",
      "from 72000000 to 73000000: 0 found\n",
      "from 73000000 to 74000000: 0 found\n",
      "from 74000000 to 75000000: 0 found\n",
      "from 75000000 to 76000000: 0 found\n",
      "from 76000000 to 77000000: 0 found\n",
      "from 77000000 to 78000000: 0 found\n",
      "from 78000000 to 79000000: 0 found\n",
      "from 79000000 to 80000000: 0 found\n",
      "from 80000000 to 81000000: 0 found\n",
      "from 81000000 to 82000000: 0 found\n",
      "from 82000000 to 83000000: 0 found\n",
      "from 83000000 to 84000000: 0 found\n",
      "from 84000000 to 85000000: 0 found\n",
      "from 85000000 to 86000000: 0 found\n",
      "from 86000000 to 87000000: 0 found\n",
      "from 87000000 to 88000000: 0 found\n",
      "from 88000000 to 89000000: 0 found\n",
      "from 89000000 to 90000000: 0 found\n",
      "from 90000000 to 91000000: 0 found\n",
      "from 91000000 to 92000000: 0 found\n",
      "from 92000000 to 93000000: 0 found\n",
      "from 93000000 to 94000000: 0 found\n",
      "from 94000000 to 95000000: 0 found\n",
      "from 95000000 to 96000000: 0 found\n",
      "from 96000000 to 97000000: 0 found\n",
      "from 97000000 to 98000000: 0 found\n",
      "from 98000000 to 99000000: 0 found\n",
      "from 99000000 to 100000000: 0 found\n"
     ]
    }
   ],
   "source": [
    "for N in range(40, 100):\n",
    "    v = compute2(\"root\")\n",
    "    print(f\"from {step*N} to {step*(N+1)}: {(v==0).sum()} found\")\n",
    "    if (v==0).sum()>0:\n",
    "        print(np.argmin(v**2)+step*N)\n",
    "        break"
   ]
  },
  {
   "cell_type": "code",
   "execution_count": null,
   "metadata": {},
   "outputs": [],
   "source": []
  }
 ],
 "metadata": {
  "kernelspec": {
   "display_name": "py310",
   "language": "python",
   "name": "python3"
  },
  "language_info": {
   "codemirror_mode": {
    "name": "ipython",
    "version": 3
   },
   "file_extension": ".py",
   "mimetype": "text/x-python",
   "name": "python",
   "nbconvert_exporter": "python",
   "pygments_lexer": "ipython3",
   "version": "3.10.4"
  },
  "orig_nbformat": 4,
  "vscode": {
   "interpreter": {
    "hash": "d324f871be833c9a8cf29764ec477236e5bf41c23d5b66dc997ba672b6b18820"
   }
  }
 },
 "nbformat": 4,
 "nbformat_minor": 2
}
