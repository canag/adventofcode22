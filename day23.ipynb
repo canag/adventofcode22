{
 "cells": [
  {
   "cell_type": "code",
   "execution_count": 1,
   "metadata": {},
   "outputs": [
    {
     "name": "stdout",
     "output_type": "stream",
     "text": [
      ".....\n",
      "..##.\n",
      "..#..\n",
      ".....\n",
      "..##.\n",
      ".....\n"
     ]
    }
   ],
   "source": [
    "f = open(\"data/data23test.txt\", \"r\")\n",
    "lines = [line[:-1] for line in f.readlines()]\n",
    "for line in lines:\n",
    "    print(line)"
   ]
  },
  {
   "cell_type": "code",
   "execution_count": 11,
   "metadata": {},
   "outputs": [
    {
     "name": "stdout",
     "output_type": "stream",
     "text": [
      "6 5\n",
      "[(1, 2), (1, 3), (2, 2), (4, 2), (4, 3)]\n"
     ]
    }
   ],
   "source": [
    "Nrows = len(lines)\n",
    "Ncols = len(lines[0])\n",
    "print(Nrows, Ncols)\n",
    "\n",
    "positions = []\n",
    "for i in range(Nrows):\n",
    "    line = lines[i]\n",
    "    for j in range(Ncols):\n",
    "        if line[j]==\"#\":\n",
    "            positions.append((i,j))\n",
    "print(positions)\n",
    "\n",
    "directions = [(-1, 0), (1, 0), (0, -1), (0, 1)]\n",
    "dir_checks = {\n",
    "    (-1, 0): [(-1, 0), (-1, -1), (-1, 1)],\n",
    "    (1, 0): [(1, 0), (1, -1), (1, 1)],\n",
    "    (0, -1): [(0, -1), (-1, -1), (1, -1)],\n",
    "    (0, 1): [(0, 1), (-1, 1), (1, 1)]\n",
    "}"
   ]
  },
  {
   "cell_type": "code",
   "execution_count": 12,
   "metadata": {},
   "outputs": [],
   "source": [
    "imin, imax = min([pos[0] for pos in positions])-1, max([pos[0] for pos in positions])+1\n",
    "jmin, jmax = min([pos[1] for pos in positions])-1, max([pos[1] for pos in positions])+1"
   ]
  },
  {
   "cell_type": "code",
   "execution_count": 34,
   "metadata": {},
   "outputs": [
    {
     "name": "stdout",
     "output_type": "stream",
     "text": [
      "  1234\n",
      "0 ....\n",
      "1 .##.\n",
      "2 .#..\n",
      "3 ....\n",
      "4 .##.\n",
      "5 ....\n"
     ]
    }
   ],
   "source": [
    "A = [['.']*(jmax-jmin+1) for i in range(imax-imin+1)]\n",
    "for pos in positions:\n",
    "    A[pos[0]-imin][pos[1]-jmin] = '#'\n",
    "\n",
    "\n",
    "list_i = list(range(imin, imax+1))\n",
    "list_j = list(range(jmin, jmax+1))\n",
    "print(\" \", \"\".join([str(s) for s in list_j]))\n",
    "for i in range(len(A)):\n",
    "    print(str(list_i[i]), \"\".join(A[i]))"
   ]
  },
  {
   "cell_type": "code",
   "execution_count": 41,
   "metadata": {},
   "outputs": [
    {
     "name": "stdout",
     "output_type": "stream",
     "text": [
      "[(0, 2), (0, 3), (3, 2), (3, 2), (3, 3)]\n",
      "[(0, 2), (0, 3), (2, 2), (4, 2), (3, 3)]\n"
     ]
    }
   ],
   "source": [
    "# round 1 - part 1\n",
    "\n",
    "\n",
    "t = 0\n",
    "propositions = [pos for pos in positions]\n",
    "\n",
    "for k, (i,j) in enumerate(positions):\n",
    "    s1 = A[i-imin+1][j-jmin] + A[i-imin-1][j-jmin] + A[i-imin][j-jmin+1] + A[i-imin][j-jmin-1]\n",
    "    s2 = A[i-imin+1][j-jmin+1] + A[i-imin-1][j-jmin-1] + A[i-imin-1][j-jmin+1] + A[i-imin+1][j-jmin-1]\n",
    "    if \"#\" in s1+s2:\n",
    "        if all([A[i-imin+d[0]][j-jmin+d[1]]=='.' for d in dir_checks[directions[t%4]]]):\n",
    "            propositions[k] = (i+directions[t%4][0], j+directions[t%4][1])\n",
    "        elif all([A[i-imin+d[0]][j-jmin+d[1]]=='.' for d in dir_checks[directions[(t+1)%4]]]):\n",
    "            propositions[k] = (i+directions[(t+1)%4][0], j+directions[(t+1)%4][1])\n",
    "        elif all([A[i-imin+d[0]][j-jmin+d[1]]=='.' for d in dir_checks[directions[(t+2)%4]]]):\n",
    "            propositions[k] = (i+directions[(t+2)%4][0], j+directions[(t+2)%4][1])\n",
    "        elif all([A[i-imin+d[0]][j-jmin+d[1]]=='.' for d in dir_checks[directions[(t+3)%4]]]):\n",
    "            propositions[k] = (i+directions[(t+3)%4][0], j+directions[(t+3)%4][1])\n",
    "    else:\n",
    "        propositions[k] = (i,j)\n",
    "print(propositions)\n",
    "\n",
    "for k, prop in enumerate(propositions):\n",
    "    tmp = propositions.copy()\n",
    "    tmp.remove(prop)\n",
    "    if prop not in tmp:\n",
    "        positions[k] = prop\n",
    "print(positions)"
   ]
  },
  {
   "cell_type": "code",
   "execution_count": null,
   "metadata": {},
   "outputs": [],
   "source": [
    "for pos in positions:\n",
    "    if pos[0]==imin:\n",
    "        A.insert()"
   ]
  }
 ],
 "metadata": {
  "kernelspec": {
   "display_name": "Python 3",
   "language": "python",
   "name": "python3"
  },
  "language_info": {
   "codemirror_mode": {
    "name": "ipython",
    "version": 3
   },
   "file_extension": ".py",
   "mimetype": "text/x-python",
   "name": "python",
   "nbconvert_exporter": "python",
   "pygments_lexer": "ipython3",
   "version": "3.6.4"
  },
  "orig_nbformat": 4,
  "vscode": {
   "interpreter": {
    "hash": "aee8b7b246df8f9039afb4144a1f6fd8d2ca17a180786b69acc140d282b71a49"
   }
  }
 },
 "nbformat": 4,
 "nbformat_minor": 2
}
